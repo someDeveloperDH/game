{
  "cells": [
    {
      "cell_type": "markdown",
      "metadata": {
        "id": "view-in-github",
        "colab_type": "text"
      },
      "source": [
        "<a href=\"https://colab.research.google.com/github/someDeveloperDH/game/blob/Vlolet/RSP_CNN.ipynb\" target=\"_parent\"><img src=\"https://colab.research.google.com/assets/colab-badge.svg\" alt=\"Open In Colab\"/></a>"
      ]
    },
    {
      "cell_type": "markdown",
      "source": [
        "# 2024-1학기 딥러닝 - 기말 팀 프로젝트\n",
        "## **가위 바위 보 분류하기(RPS Classification)**\n",
        "   \n",
        "\n",
        "T1 (박동혁, 이유준, 배도현)"
      ],
      "metadata": {
        "id": "s3gh5itZjLYM"
      }
    },
    {
      "cell_type": "markdown",
      "source": [
        "###1. 1차 모델"
      ],
      "metadata": {
        "id": "QMYmQNcmjiQ-"
      }
    },
    {
      "cell_type": "markdown",
      "source": [
        "#### 1-1. 학습 준비"
      ],
      "metadata": {
        "id": "ogRGmSJ4kU4C"
      }
    },
    {
      "cell_type": "code",
      "execution_count": 1,
      "metadata": {
        "colab": {
          "base_uri": "https://localhost:8080/"
        },
        "id": "r2YFce2FCBct",
        "outputId": "f6d760de-cda3-4d04-bffb-6f19e6373429"
      },
      "outputs": [
        {
          "output_type": "stream",
          "name": "stdout",
          "text": [
            "Mounted at /content/drive\n"
          ]
        }
      ],
      "source": [
        "from google.colab import drive\n",
        "drive.mount(\"/content/drive\")"
      ]
    },
    {
      "cell_type": "code",
      "execution_count": 2,
      "metadata": {
        "id": "3xdafpV1Y0TA"
      },
      "outputs": [],
      "source": [
        "import tensorflow as tf\n",
        "import matplotlib.pyplot as plt\n",
        "import matplotlib.image as mpimg\n",
        "import numpy as np\n",
        "import os\n",
        "from random import shuffle\n",
        "from tensorflow.keras.preprocessing import image\n",
        "from tensorflow.keras.preprocessing.image import ImageDataGenerator"
      ]
    },
    {
      "cell_type": "markdown",
      "source": [
        "##### Data 경로 설정"
      ],
      "metadata": {
        "id": "WU3JjWFei_qJ"
      }
    },
    {
      "cell_type": "code",
      "execution_count": 3,
      "metadata": {
        "id": "478fNXdyZGB3"
      },
      "outputs": [],
      "source": [
        "# 필요시 경로 수정 필수\n",
        "base_dir = \"/content/drive/MyDrive/Colab Notebooks/myRPS/RPS\"\n",
        "\n",
        "train_dir = os.path.join(base_dir,\"train\")\n",
        "test_dir = os.path.join(base_dir,\"test\")\n",
        "\n",
        "train_paper_dir = os.path.join(train_dir,\"paper\") # 각 650개\n",
        "train_rock_dir = os.path.join(train_dir,\"rock\")\n",
        "train_scissors_dir = os.path.join(train_dir,\"scissors\")\n",
        "\n",
        "test_paper_dir = os.path.join(test_dir,\"paper\") # 각 90개\n",
        "test_rock_dir = os.path.join(test_dir,\"rock\")\n",
        "test_scissors_dir = os.path.join(test_dir,\"scissors\")"
      ]
    },
    {
      "cell_type": "markdown",
      "source": [
        "#### 1-2. Data 전처리"
      ],
      "metadata": {
        "id": "xnDcvrfCmpLm"
      }
    },
    {
      "cell_type": "code",
      "execution_count": 4,
      "metadata": {
        "colab": {
          "base_uri": "https://localhost:8080/"
        },
        "id": "CgkVJZdIY1yx",
        "outputId": "d3cc8b10-1e6d-4ba3-f680-68efd75b1509"
      },
      "outputs": [
        {
          "output_type": "stream",
          "name": "stdout",
          "text": [
            "<keras.src.preprocessing.image.ImageDataGenerator object at 0x7dabcd90b310>\n"
          ]
        }
      ],
      "source": [
        "train_datagen = ImageDataGenerator(rescale = 1./255, validation_split=0.3)\n",
        "test_datagen = ImageDataGenerator(rescale = 1./255)\n",
        "\n",
        "print(train_datagen)"
      ]
    },
    {
      "cell_type": "code",
      "execution_count": 5,
      "metadata": {
        "colab": {
          "base_uri": "https://localhost:8080/"
        },
        "id": "svdN-oYNd_Vi",
        "outputId": "f2cb420d-c27c-4cdd-db7d-51e942150c85"
      },
      "outputs": [
        {
          "output_type": "stream",
          "name": "stdout",
          "text": [
            "Found 1365 images belonging to 3 classes.\n",
            "Found 585 images belonging to 3 classes.\n",
            "Found 270 images belonging to 3 classes.\n",
            "훈련 이미지 개수: 1365\n",
            "검증 이미지 개수: 585\n",
            "테스트 이미지 개수: 270\n"
          ]
        }
      ],
      "source": [
        "train_generator = train_datagen.flow_from_directory(train_dir,\n",
        "                                                    subset='training',  # subset 미설정 시 분리되지 않음\n",
        "                                                    batch_size=16,\n",
        "                                                    color_mode='rgb',\n",
        "                                                    class_mode='categorical',\n",
        "                                                    target_size=(224,224))\n",
        "validation_generator = train_datagen.flow_from_directory(train_dir,\n",
        "                                                         subset='validation',\n",
        "                                                              batch_size=4,\n",
        "                                                              color_mode='rgb',\n",
        "                                                              class_mode='categorical',\n",
        "                                                              target_size=(224,224))\n",
        "test_generator = test_datagen.flow_from_directory(test_dir,\n",
        "                                                  batch_size=4,\n",
        "                                                  color_mode='rgb',\n",
        "                                                  class_mode='categorical',\n",
        "                                                  target_size=(224,224))\n",
        "print(f\"훈련 이미지 개수: {train_generator.samples}\")\n",
        "print(f\"검증 이미지 개수: {validation_generator.samples}\")\n",
        "print(f\"테스트 이미지 개수: {test_generator.samples}\")"
      ]
    },
    {
      "cell_type": "code",
      "execution_count": 6,
      "metadata": {
        "id": "L9O_sAmSffVw",
        "colab": {
          "base_uri": "https://localhost:8080/"
        },
        "outputId": "e5f01833-1319-4c18-ecb4-eaa2656f6ee5"
      },
      "outputs": [
        {
          "output_type": "execute_result",
          "data": {
            "text/plain": [
              "{'paper': 0, 'rock': 1, 'scissors': 2}"
            ]
          },
          "metadata": {},
          "execution_count": 6
        }
      ],
      "source": [
        "# 폴더기준으로 자동으로 클래스 나눈거 확인\n",
        "train_generator.class_indices"
      ]
    },
    {
      "cell_type": "markdown",
      "source": [
        "#### 1-3. 모델 생성"
      ],
      "metadata": {
        "id": "xfKgljKBnlmX"
      }
    },
    {
      "cell_type": "code",
      "execution_count": 7,
      "metadata": {
        "id": "G0d8bw73mfGy",
        "colab": {
          "base_uri": "https://localhost:8080/"
        },
        "outputId": "e85a5565-fdf0-4901-fe06-6e37a9bdc772"
      },
      "outputs": [
        {
          "output_type": "stream",
          "name": "stdout",
          "text": [
            "Model: \"sequential\"\n",
            "_________________________________________________________________\n",
            " Layer (type)                Output Shape              Param #   \n",
            "=================================================================\n",
            " conv2d (Conv2D)             (None, 222, 222, 32)      896       \n",
            "                                                                 \n",
            " max_pooling2d (MaxPooling2  (None, 111, 111, 32)      0         \n",
            " D)                                                              \n",
            "                                                                 \n",
            " conv2d_1 (Conv2D)           (None, 109, 109, 64)      18496     \n",
            "                                                                 \n",
            " max_pooling2d_1 (MaxPoolin  (None, 54, 54, 64)        0         \n",
            " g2D)                                                            \n",
            "                                                                 \n",
            " conv2d_2 (Conv2D)           (None, 52, 52, 128)       73856     \n",
            "                                                                 \n",
            " max_pooling2d_2 (MaxPoolin  (None, 26, 26, 128)       0         \n",
            " g2D)                                                            \n",
            "                                                                 \n",
            " conv2d_3 (Conv2D)           (None, 24, 24, 256)       295168    \n",
            "                                                                 \n",
            " max_pooling2d_3 (MaxPoolin  (None, 12, 12, 256)       0         \n",
            " g2D)                                                            \n",
            "                                                                 \n",
            " flatten (Flatten)           (None, 36864)             0         \n",
            "                                                                 \n",
            " dense (Dense)               (None, 256)               9437440   \n",
            "                                                                 \n",
            " dense_1 (Dense)             (None, 128)               32896     \n",
            "                                                                 \n",
            " dense_2 (Dense)             (None, 64)                8256      \n",
            "                                                                 \n",
            " dense_3 (Dense)             (None, 3)                 195       \n",
            "                                                                 \n",
            "=================================================================\n",
            "Total params: 9867203 (37.64 MB)\n",
            "Trainable params: 9867203 (37.64 MB)\n",
            "Non-trainable params: 0 (0.00 Byte)\n",
            "_________________________________________________________________\n"
          ]
        }
      ],
      "source": [
        "model = tf.keras.models.Sequential([\n",
        "    tf.keras.layers.Conv2D(32, (3,3), activation='relu', input_shape=(224, 224, 3)),\n",
        "    tf.keras.layers.MaxPooling2D(2,2),\n",
        "    tf.keras.layers.Conv2D(64, (3,3), activation='relu'),\n",
        "    tf.keras.layers.MaxPooling2D(2,2),\n",
        "    tf.keras.layers.Conv2D(128, (3,3), activation='relu'),\n",
        "    tf.keras.layers.MaxPooling2D(2,2),\n",
        "    tf.keras.layers.Conv2D(256, (3,3), activation='relu'),\n",
        "    tf.keras.layers.MaxPooling2D(2,2),\n",
        "    tf.keras.layers.Flatten(),\n",
        "    tf.keras.layers.Dense(256, activation='relu'),\n",
        "    tf.keras.layers.Dense(128, activation='relu'),\n",
        "    tf.keras.layers.Dense(64, activation='relu'),\n",
        "    tf.keras.layers.Dense(3, activation='softmax')\n",
        "])\n",
        "model.summary()"
      ]
    },
    {
      "cell_type": "code",
      "execution_count": 8,
      "metadata": {
        "id": "newn0TAKm028"
      },
      "outputs": [],
      "source": [
        "from tensorflow.keras.optimizers import Adam\n",
        "model.compile(optimizer=Adam(learning_rate=0.001),\n",
        "              loss='categorical_crossentropy',\n",
        "              metrics= ['accuracy'])\n"
      ]
    },
    {
      "cell_type": "markdown",
      "source": [
        "#### 1-4. 모델 학습"
      ],
      "metadata": {
        "id": "qdJHfp43nvqX"
      }
    },
    {
      "cell_type": "code",
      "execution_count": 9,
      "metadata": {
        "id": "VbStvnMEm_Uu",
        "colab": {
          "base_uri": "https://localhost:8080/"
        },
        "outputId": "eb6dbc50-8a8e-446f-ca91-be46b2ac7e50"
      },
      "outputs": [
        {
          "output_type": "stream",
          "name": "stderr",
          "text": [
            "<ipython-input-9-1e5eb6015191>:1: UserWarning: `Model.fit_generator` is deprecated and will be removed in a future version. Please use `Model.fit`, which supports generators.\n",
            "  history = model.fit_generator(train_generator,\n"
          ]
        },
        {
          "output_type": "stream",
          "name": "stdout",
          "text": [
            "Epoch 1/100\n",
            "10/10 - 61s - loss: 1.3715 - accuracy: 0.3063 - val_loss: 1.0999 - val_accuracy: 0.3250 - 61s/epoch - 6s/step\n",
            "Epoch 2/100\n",
            "10/10 - 60s - loss: 1.0984 - accuracy: 0.3750 - val_loss: 1.0945 - val_accuracy: 0.4000 - 60s/epoch - 6s/step\n",
            "Epoch 3/100\n",
            "10/10 - 38s - loss: 1.1001 - accuracy: 0.3063 - val_loss: 1.0948 - val_accuracy: 0.3750 - 38s/epoch - 4s/step\n",
            "Epoch 4/100\n",
            "10/10 - 36s - loss: 1.0984 - accuracy: 0.3688 - val_loss: 1.0991 - val_accuracy: 0.2750 - 36s/epoch - 4s/step\n",
            "Epoch 5/100\n",
            "10/10 - 39s - loss: 1.1050 - accuracy: 0.2875 - val_loss: 1.0893 - val_accuracy: 0.3750 - 39s/epoch - 4s/step\n",
            "Epoch 6/100\n",
            "10/10 - 31s - loss: 1.0983 - accuracy: 0.3187 - val_loss: 1.1025 - val_accuracy: 0.2750 - 31s/epoch - 3s/step\n",
            "Epoch 7/100\n",
            "10/10 - 28s - loss: 1.0976 - accuracy: 0.3562 - val_loss: 1.1166 - val_accuracy: 0.3000 - 28s/epoch - 3s/step\n",
            "Epoch 8/100\n",
            "10/10 - 21s - loss: 1.0988 - accuracy: 0.3688 - val_loss: 1.1073 - val_accuracy: 0.2500 - 21s/epoch - 2s/step\n",
            "Epoch 9/100\n",
            "10/10 - 21s - loss: 1.1208 - accuracy: 0.3688 - val_loss: 1.0996 - val_accuracy: 0.3500 - 21s/epoch - 2s/step\n",
            "Epoch 10/100\n",
            "10/10 - 19s - loss: 1.0978 - accuracy: 0.3688 - val_loss: 1.0628 - val_accuracy: 0.5500 - 19s/epoch - 2s/step\n",
            "Epoch 11/100\n",
            "10/10 - 15s - loss: 1.0841 - accuracy: 0.4161 - val_loss: 1.1981 - val_accuracy: 0.3000 - 15s/epoch - 1s/step\n",
            "Epoch 12/100\n",
            "10/10 - 13s - loss: 1.0662 - accuracy: 0.4000 - val_loss: 1.0837 - val_accuracy: 0.4000 - 13s/epoch - 1s/step\n",
            "Epoch 13/100\n",
            "10/10 - 18s - loss: 1.0541 - accuracy: 0.4062 - val_loss: 1.1209 - val_accuracy: 0.3250 - 18s/epoch - 2s/step\n",
            "Epoch 14/100\n",
            "10/10 - 12s - loss: 1.0677 - accuracy: 0.4375 - val_loss: 1.0719 - val_accuracy: 0.4250 - 12s/epoch - 1s/step\n",
            "Epoch 15/100\n",
            "10/10 - 7s - loss: 1.0750 - accuracy: 0.4000 - val_loss: 1.1284 - val_accuracy: 0.4000 - 7s/epoch - 732ms/step\n",
            "Epoch 16/100\n",
            "10/10 - 11s - loss: 1.0966 - accuracy: 0.3688 - val_loss: 1.0822 - val_accuracy: 0.3250 - 11s/epoch - 1s/step\n",
            "Epoch 17/100\n",
            "10/10 - 6s - loss: 1.0977 - accuracy: 0.3187 - val_loss: 1.0755 - val_accuracy: 0.4000 - 6s/epoch - 609ms/step\n",
            "Epoch 18/100\n",
            "10/10 - 9s - loss: 1.0839 - accuracy: 0.3562 - val_loss: 1.1218 - val_accuracy: 0.4250 - 9s/epoch - 904ms/step\n",
            "Epoch 19/100\n",
            "10/10 - 8s - loss: 1.0827 - accuracy: 0.3500 - val_loss: 1.1085 - val_accuracy: 0.2500 - 8s/epoch - 805ms/step\n",
            "Epoch 20/100\n",
            "10/10 - 5s - loss: 1.0994 - accuracy: 0.3812 - val_loss: 1.1090 - val_accuracy: 0.3250 - 5s/epoch - 541ms/step\n",
            "Epoch 21/100\n",
            "10/10 - 6s - loss: 1.0912 - accuracy: 0.4000 - val_loss: 1.0875 - val_accuracy: 0.4250 - 6s/epoch - 599ms/step\n",
            "Epoch 22/100\n",
            "10/10 - 3s - loss: 1.0937 - accuracy: 0.3154 - val_loss: 1.0963 - val_accuracy: 0.3000 - 3s/epoch - 273ms/step\n",
            "Epoch 23/100\n",
            "10/10 - 4s - loss: 1.0990 - accuracy: 0.4062 - val_loss: 1.1486 - val_accuracy: 0.3000 - 4s/epoch - 384ms/step\n",
            "Epoch 24/100\n",
            "10/10 - 4s - loss: 1.0658 - accuracy: 0.4500 - val_loss: 1.1110 - val_accuracy: 0.4500 - 4s/epoch - 395ms/step\n",
            "Epoch 25/100\n",
            "10/10 - 4s - loss: 1.1692 - accuracy: 0.3250 - val_loss: 1.1014 - val_accuracy: 0.4000 - 4s/epoch - 410ms/step\n",
            "Epoch 26/100\n",
            "10/10 - 4s - loss: 1.0535 - accuracy: 0.3812 - val_loss: 1.0990 - val_accuracy: 0.3750 - 4s/epoch - 387ms/step\n",
            "Epoch 27/100\n",
            "10/10 - 4s - loss: 1.1065 - accuracy: 0.2937 - val_loss: 1.0695 - val_accuracy: 0.4250 - 4s/epoch - 408ms/step\n",
            "Epoch 28/100\n",
            "10/10 - 6s - loss: 1.0998 - accuracy: 0.3313 - val_loss: 1.0909 - val_accuracy: 0.3500 - 6s/epoch - 624ms/step\n",
            "Epoch 29/100\n",
            "10/10 - 3s - loss: 1.0973 - accuracy: 0.3688 - val_loss: 1.0951 - val_accuracy: 0.3500 - 3s/epoch - 264ms/step\n",
            "Epoch 30/100\n",
            "10/10 - 3s - loss: 1.0995 - accuracy: 0.3154 - val_loss: 1.0909 - val_accuracy: 0.2500 - 3s/epoch - 316ms/step\n",
            "Epoch 31/100\n",
            "10/10 - 2s - loss: 1.0957 - accuracy: 0.3625 - val_loss: 1.0839 - val_accuracy: 0.3500 - 2s/epoch - 208ms/step\n",
            "Epoch 32/100\n",
            "10/10 - 3s - loss: 1.0629 - accuracy: 0.3688 - val_loss: 1.1656 - val_accuracy: 0.4000 - 3s/epoch - 320ms/step\n",
            "Epoch 33/100\n",
            "10/10 - 3s - loss: 1.0601 - accuracy: 0.3375 - val_loss: 1.0221 - val_accuracy: 0.2250 - 3s/epoch - 251ms/step\n",
            "Epoch 34/100\n",
            "10/10 - 3s - loss: 1.0791 - accuracy: 0.3250 - val_loss: 1.0771 - val_accuracy: 0.3750 - 3s/epoch - 330ms/step\n",
            "Epoch 35/100\n",
            "10/10 - 2s - loss: 1.0799 - accuracy: 0.3562 - val_loss: 1.0944 - val_accuracy: 0.2750 - 2s/epoch - 236ms/step\n",
            "Epoch 36/100\n",
            "10/10 - 4s - loss: 1.0627 - accuracy: 0.3625 - val_loss: 1.0944 - val_accuracy: 0.3250 - 4s/epoch - 365ms/step\n",
            "Epoch 37/100\n",
            "10/10 - 2s - loss: 1.0411 - accuracy: 0.3688 - val_loss: 1.1303 - val_accuracy: 0.3000 - 2s/epoch - 231ms/step\n",
            "Epoch 38/100\n",
            "10/10 - 1s - loss: 1.0397 - accuracy: 0.3875 - val_loss: 1.1103 - val_accuracy: 0.2000 - 1s/epoch - 106ms/step\n",
            "Epoch 39/100\n",
            "10/10 - 3s - loss: 1.0217 - accuracy: 0.4228 - val_loss: 1.1325 - val_accuracy: 0.3000 - 3s/epoch - 334ms/step\n",
            "Epoch 40/100\n",
            "10/10 - 2s - loss: 1.0234 - accuracy: 0.4437 - val_loss: 1.0555 - val_accuracy: 0.3250 - 2s/epoch - 178ms/step\n",
            "Epoch 41/100\n",
            "10/10 - 2s - loss: 1.1127 - accuracy: 0.3960 - val_loss: 1.0960 - val_accuracy: 0.3750 - 2s/epoch - 184ms/step\n",
            "Epoch 42/100\n",
            "10/10 - 2s - loss: 1.0436 - accuracy: 0.4500 - val_loss: 1.1439 - val_accuracy: 0.2250 - 2s/epoch - 226ms/step\n",
            "Epoch 43/100\n",
            "10/10 - 2s - loss: 1.0754 - accuracy: 0.3625 - val_loss: 1.0643 - val_accuracy: 0.4500 - 2s/epoch - 209ms/step\n",
            "Epoch 44/100\n",
            "10/10 - 3s - loss: 1.0779 - accuracy: 0.3562 - val_loss: 1.1163 - val_accuracy: 0.3750 - 3s/epoch - 340ms/step\n",
            "Epoch 45/100\n",
            "10/10 - 3s - loss: 1.0876 - accuracy: 0.3625 - val_loss: 1.1819 - val_accuracy: 0.3250 - 3s/epoch - 339ms/step\n",
            "Epoch 46/100\n",
            "10/10 - 2s - loss: 1.0753 - accuracy: 0.3557 - val_loss: 1.0579 - val_accuracy: 0.4000 - 2s/epoch - 232ms/step\n",
            "Epoch 47/100\n",
            "10/10 - 1s - loss: 1.1001 - accuracy: 0.3500 - val_loss: 1.0782 - val_accuracy: 0.4250 - 1s/epoch - 111ms/step\n",
            "Epoch 48/100\n",
            "10/10 - 2s - loss: 1.0179 - accuracy: 0.4625 - val_loss: 1.1015 - val_accuracy: 0.3750 - 2s/epoch - 218ms/step\n",
            "Epoch 49/100\n",
            "10/10 - 2s - loss: 1.0938 - accuracy: 0.4187 - val_loss: 1.1264 - val_accuracy: 0.3750 - 2s/epoch - 190ms/step\n",
            "Epoch 50/100\n",
            "10/10 - 1s - loss: 1.0744 - accuracy: 0.4000 - val_loss: 1.0815 - val_accuracy: 0.3000 - 1s/epoch - 103ms/step\n",
            "Epoch 51/100\n",
            "10/10 - 2s - loss: 1.0854 - accuracy: 0.3125 - val_loss: 1.0818 - val_accuracy: 0.4500 - 2s/epoch - 155ms/step\n",
            "Epoch 52/100\n",
            "10/10 - 2s - loss: 0.9880 - accuracy: 0.4062 - val_loss: 1.2786 - val_accuracy: 0.4500 - 2s/epoch - 216ms/step\n",
            "Epoch 53/100\n",
            "10/10 - 2s - loss: 1.0247 - accuracy: 0.4750 - val_loss: 1.1300 - val_accuracy: 0.4500 - 2s/epoch - 164ms/step\n",
            "Epoch 54/100\n",
            "10/10 - 2s - loss: 1.0331 - accuracy: 0.3812 - val_loss: 1.1622 - val_accuracy: 0.3250 - 2s/epoch - 153ms/step\n",
            "Epoch 55/100\n",
            "10/10 - 1s - loss: 1.0377 - accuracy: 0.3562 - val_loss: 1.2301 - val_accuracy: 0.2000 - 1s/epoch - 114ms/step\n",
            "Epoch 56/100\n",
            "10/10 - 1s - loss: 0.9469 - accuracy: 0.5125 - val_loss: 1.5103 - val_accuracy: 0.3250 - 1s/epoch - 114ms/step\n",
            "Epoch 57/100\n",
            "10/10 - 1s - loss: 0.9955 - accuracy: 0.4688 - val_loss: 1.2303 - val_accuracy: 0.4000 - 1s/epoch - 134ms/step\n",
            "Epoch 58/100\n",
            "10/10 - 2s - loss: 1.0013 - accuracy: 0.4375 - val_loss: 1.1956 - val_accuracy: 0.3250 - 2s/epoch - 205ms/step\n",
            "Epoch 59/100\n",
            "10/10 - 1s - loss: 0.9782 - accuracy: 0.5312 - val_loss: 1.1372 - val_accuracy: 0.4500 - 1s/epoch - 147ms/step\n",
            "Epoch 60/100\n",
            "10/10 - 2s - loss: 1.0299 - accuracy: 0.4375 - val_loss: 1.5300 - val_accuracy: 0.4000 - 2s/epoch - 197ms/step\n",
            "Epoch 61/100\n",
            "10/10 - 1s - loss: 1.0112 - accuracy: 0.4812 - val_loss: 1.0815 - val_accuracy: 0.3750 - 1s/epoch - 144ms/step\n",
            "Epoch 62/100\n",
            "10/10 - 1s - loss: 1.0387 - accuracy: 0.3750 - val_loss: 1.0349 - val_accuracy: 0.3750 - 1s/epoch - 141ms/step\n",
            "Epoch 63/100\n",
            "10/10 - 1s - loss: 0.9634 - accuracy: 0.4938 - val_loss: 1.0939 - val_accuracy: 0.4250 - 1s/epoch - 120ms/step\n",
            "Epoch 64/100\n",
            "10/10 - 1s - loss: 0.9523 - accuracy: 0.4812 - val_loss: 1.2785 - val_accuracy: 0.3500 - 1s/epoch - 115ms/step\n",
            "Epoch 65/100\n",
            "10/10 - 1s - loss: 0.9074 - accuracy: 0.5235 - val_loss: 1.4016 - val_accuracy: 0.4250 - 1s/epoch - 132ms/step\n",
            "Epoch 66/100\n",
            "10/10 - 1s - loss: 1.0019 - accuracy: 0.4313 - val_loss: 1.4548 - val_accuracy: 0.3500 - 1s/epoch - 131ms/step\n",
            "Epoch 67/100\n",
            "10/10 - 2s - loss: 0.8948 - accuracy: 0.5437 - val_loss: 1.4901 - val_accuracy: 0.4750 - 2s/epoch - 154ms/step\n",
            "Epoch 68/100\n",
            "10/10 - 1s - loss: 0.9494 - accuracy: 0.5063 - val_loss: 1.6236 - val_accuracy: 0.4750 - 1s/epoch - 114ms/step\n",
            "Epoch 69/100\n",
            "10/10 - 1s - loss: 0.9136 - accuracy: 0.5625 - val_loss: 1.2522 - val_accuracy: 0.3250 - 1s/epoch - 134ms/step\n",
            "Epoch 70/100\n",
            "10/10 - 1s - loss: 0.8727 - accuracy: 0.5625 - val_loss: 1.1454 - val_accuracy: 0.4500 - 1s/epoch - 146ms/step\n",
            "Epoch 71/100\n",
            "10/10 - 1s - loss: 0.9802 - accuracy: 0.5125 - val_loss: 0.9519 - val_accuracy: 0.3000 - 1s/epoch - 123ms/step\n",
            "Epoch 72/100\n",
            "10/10 - 2s - loss: 1.1384 - accuracy: 0.4688 - val_loss: 1.1230 - val_accuracy: 0.2750 - 2s/epoch - 221ms/step\n",
            "Epoch 73/100\n",
            "10/10 - 1s - loss: 0.9627 - accuracy: 0.4875 - val_loss: 0.9302 - val_accuracy: 0.6000 - 1s/epoch - 143ms/step\n",
            "Epoch 74/100\n",
            "10/10 - 2s - loss: 0.9442 - accuracy: 0.4750 - val_loss: 1.0864 - val_accuracy: 0.4250 - 2s/epoch - 221ms/step\n",
            "Epoch 75/100\n",
            "10/10 - 2s - loss: 0.8516 - accuracy: 0.5875 - val_loss: 1.3642 - val_accuracy: 0.5000 - 2s/epoch - 155ms/step\n",
            "Epoch 76/100\n",
            "10/10 - 1s - loss: 0.8597 - accuracy: 0.5750 - val_loss: 2.3693 - val_accuracy: 0.3750 - 1s/epoch - 112ms/step\n",
            "Epoch 77/100\n",
            "10/10 - 1s - loss: 0.7921 - accuracy: 0.6062 - val_loss: 1.8779 - val_accuracy: 0.4000 - 1s/epoch - 145ms/step\n",
            "Epoch 78/100\n",
            "10/10 - 1s - loss: 0.7463 - accuracy: 0.6375 - val_loss: 1.1971 - val_accuracy: 0.5250 - 1s/epoch - 125ms/step\n",
            "Epoch 79/100\n",
            "10/10 - 1s - loss: 0.7531 - accuracy: 0.6438 - val_loss: 1.5936 - val_accuracy: 0.3750 - 1s/epoch - 128ms/step\n",
            "Epoch 80/100\n",
            "10/10 - 1s - loss: 0.6717 - accuracy: 0.6644 - val_loss: 1.1131 - val_accuracy: 0.5500 - 1s/epoch - 142ms/step\n",
            "Epoch 81/100\n",
            "10/10 - 1s - loss: 0.7459 - accuracy: 0.6750 - val_loss: 1.2369 - val_accuracy: 0.5000 - 1s/epoch - 114ms/step\n",
            "Epoch 82/100\n",
            "10/10 - 1s - loss: 0.6754 - accuracy: 0.7375 - val_loss: 1.4532 - val_accuracy: 0.4500 - 1s/epoch - 145ms/step\n",
            "Epoch 83/100\n",
            "10/10 - 2s - loss: 0.7006 - accuracy: 0.6687 - val_loss: 1.0650 - val_accuracy: 0.5500 - 2s/epoch - 167ms/step\n",
            "Epoch 84/100\n",
            "10/10 - 2s - loss: 0.6168 - accuracy: 0.7375 - val_loss: 1.1046 - val_accuracy: 0.5750 - 2s/epoch - 157ms/step\n",
            "Epoch 85/100\n",
            "10/10 - 1s - loss: 0.6243 - accuracy: 0.7688 - val_loss: 1.0443 - val_accuracy: 0.5000 - 1s/epoch - 138ms/step\n",
            "Epoch 86/100\n",
            "10/10 - 1s - loss: 0.5446 - accuracy: 0.7750 - val_loss: 1.1953 - val_accuracy: 0.6250 - 1s/epoch - 146ms/step\n",
            "Epoch 87/100\n",
            "10/10 - 1s - loss: 0.6176 - accuracy: 0.7750 - val_loss: 2.1893 - val_accuracy: 0.5500 - 1s/epoch - 119ms/step\n",
            "Epoch 88/100\n",
            "10/10 - 1s - loss: 0.5802 - accuracy: 0.7375 - val_loss: 1.5076 - val_accuracy: 0.4750 - 1s/epoch - 109ms/step\n",
            "Epoch 89/100\n",
            "10/10 - 1s - loss: 0.4213 - accuracy: 0.8438 - val_loss: 0.9322 - val_accuracy: 0.6250 - 1s/epoch - 102ms/step\n",
            "Epoch 90/100\n",
            "10/10 - 1s - loss: 0.6732 - accuracy: 0.7250 - val_loss: 1.5273 - val_accuracy: 0.4750 - 1s/epoch - 118ms/step\n",
            "Epoch 91/100\n",
            "10/10 - 1s - loss: 0.5106 - accuracy: 0.7875 - val_loss: 1.1990 - val_accuracy: 0.5250 - 1s/epoch - 121ms/step\n",
            "Epoch 92/100\n",
            "10/10 - 2s - loss: 0.3050 - accuracy: 0.8658 - val_loss: 1.3893 - val_accuracy: 0.5000 - 2s/epoch - 160ms/step\n",
            "Epoch 93/100\n",
            "10/10 - 1s - loss: 0.3478 - accuracy: 0.8500 - val_loss: 1.4784 - val_accuracy: 0.5750 - 1s/epoch - 147ms/step\n",
            "Epoch 94/100\n",
            "10/10 - 1s - loss: 0.3155 - accuracy: 0.8938 - val_loss: 1.5563 - val_accuracy: 0.5250 - 1s/epoch - 105ms/step\n",
            "Epoch 95/100\n",
            "10/10 - 1s - loss: 0.2354 - accuracy: 0.9250 - val_loss: 1.8784 - val_accuracy: 0.6500 - 1s/epoch - 149ms/step\n",
            "Epoch 96/100\n",
            "10/10 - 1s - loss: 0.2980 - accuracy: 0.8687 - val_loss: 1.5420 - val_accuracy: 0.5000 - 1s/epoch - 135ms/step\n",
            "Epoch 97/100\n",
            "10/10 - 1s - loss: 0.2765 - accuracy: 0.8750 - val_loss: 1.0438 - val_accuracy: 0.7250 - 1s/epoch - 128ms/step\n",
            "Epoch 98/100\n",
            "10/10 - 1s - loss: 0.2610 - accuracy: 0.9062 - val_loss: 1.9759 - val_accuracy: 0.6000 - 1s/epoch - 114ms/step\n",
            "Epoch 99/100\n",
            "10/10 - 1s - loss: 0.2036 - accuracy: 0.9438 - val_loss: 1.8611 - val_accuracy: 0.5500 - 969ms/epoch - 97ms/step\n",
            "Epoch 100/100\n",
            "10/10 - 1s - loss: 0.1846 - accuracy: 0.9250 - val_loss: 2.2707 - val_accuracy: 0.5000 - 1s/epoch - 148ms/step\n"
          ]
        }
      ],
      "source": [
        "history = model.fit_generator(train_generator,\n",
        "                              validation_data=validation_generator,\n",
        "                              steps_per_epoch=10,\n",
        "                              epochs=100,\n",
        "                              validation_steps=10,\n",
        "                              verbose=2)"
      ]
    },
    {
      "cell_type": "markdown",
      "source": [
        "#### 1-5. 모델 평가 및 학습 과정 시각화"
      ],
      "metadata": {
        "id": "5rI4655Xn-0X"
      }
    },
    {
      "cell_type": "code",
      "execution_count": 10,
      "metadata": {
        "id": "Sk9Ybww7nI9-",
        "colab": {
          "base_uri": "https://localhost:8080/"
        },
        "outputId": "91ded2ed-8b5c-4cb6-bdac-227d0fe3cf20"
      },
      "outputs": [
        {
          "output_type": "stream",
          "name": "stdout",
          "text": [
            "86/86 [==============================] - 8s 95ms/step - loss: 0.2293 - accuracy: 0.9267\n"
          ]
        },
        {
          "output_type": "execute_result",
          "data": {
            "text/plain": [
              "[0.22931018471717834, 0.9267399311065674]"
            ]
          },
          "metadata": {},
          "execution_count": 10
        }
      ],
      "source": [
        "model.evaluate(train_generator)"
      ]
    },
    {
      "cell_type": "code",
      "execution_count": 11,
      "metadata": {
        "id": "P9A-UzXynLKK",
        "colab": {
          "base_uri": "https://localhost:8080/"
        },
        "outputId": "e0b2e6ca-3c47-48d2-9da1-93d6136846ac"
      },
      "outputs": [
        {
          "output_type": "stream",
          "name": "stdout",
          "text": [
            "147/147 [==============================] - 4s 28ms/step - loss: 2.6963 - accuracy: 0.5880\n"
          ]
        },
        {
          "output_type": "execute_result",
          "data": {
            "text/plain": [
              "[2.696296215057373, 0.5880342125892639]"
            ]
          },
          "metadata": {},
          "execution_count": 11
        }
      ],
      "source": [
        "model.evaluate(validation_generator)"
      ]
    },
    {
      "cell_type": "code",
      "execution_count": 12,
      "metadata": {
        "id": "9IiLaWQQnPkg",
        "colab": {
          "base_uri": "https://localhost:8080/",
          "height": 887
        },
        "outputId": "9a5619a8-0e01-463d-88b2-1bba22276efc"
      },
      "outputs": [
        {
          "output_type": "display_data",
          "data": {
            "text/plain": [
              "<Figure size 640x480 with 1 Axes>"
            ],
            "image/png": "[encoded data removed]"
          },
          "metadata": {}
        },
        {
          "output_type": "display_data",
          "data": {
            "text/plain": [
              "<Figure size 640x480 with 1 Axes>"
            ],
            "image/png": "[encoded data removed]"
          },
          "metadata": {}
        }
      ],
      "source": [
        "acc = history.history['accuracy']\n",
        "val_acc = history.history['val_accuracy']\n",
        "loss = history.history['loss']\n",
        "val_loss = history.history['val_loss']\n",
        "\n",
        "epochs = range(len(acc))\n",
        "\n",
        "plt.plot(epochs, acc, 'bo', label='Training accuracy')\n",
        "plt.plot(epochs, val_acc, 'b', label='Validation accuracy')\n",
        "plt.title('Training and validation accuracy')\n",
        "plt.legend()\n",
        "\n",
        "plt.figure()\n",
        "\n",
        "plt.plot(epochs, loss, 'go', label='Training loss')\n",
        "plt.plot(epochs, val_loss, 'g', label='Validation loss')\n",
        "plt.title('Training and validation loss')\n",
        "plt.legend()\n",
        "\n",
        "plt.show()"
      ]
    },
    {
      "cell_type": "code",
      "source": [
        "test_loss, test_acc = model.evaluate(test_generator, steps=20)\n",
        "\n",
        "print('Test accuracy:', test_acc)\n",
        "print('Test loss:', test_loss)\n",
        "\n",
        "plt.figure()\n",
        "\n",
        "plt.plot(epochs, [test_acc]*len(epochs), 'ro', label='Test accuracy')\n",
        "plt.title('Test accuracy')\n",
        "plt.legend()\n",
        "\n",
        "plt.figure()\n",
        "\n",
        "plt.plot(epochs, [test_loss]*len(epochs), 'mo', label='Test loss')\n",
        "plt.title('Test loss')\n",
        "plt.legend()\n",
        "\n",
        "plt.show()"
      ],
      "metadata": {
        "id": "nXn4at6F5Sba",
        "colab": {
          "base_uri": "https://localhost:8080/",
          "height": 943
        },
        "outputId": "82ac9600-a822-4e2b-f70b-9e6d409d014f"
      },
      "execution_count": 13,
      "outputs": [
        {
          "output_type": "stream",
          "name": "stdout",
          "text": [
            "20/20 [==============================] - 31s 2s/step - loss: 1.0619 - accuracy: 0.7375\n",
            "Test accuracy: 0.737500011920929\n",
            "Test loss: 1.0618866682052612\n"
          ]
        },
        {
          "output_type": "display_data",
          "data": {
            "text/plain": [
              "<Figure size 640x480 with 1 Axes>"
            ],
            "image/png": "[encoded data removed]"
          },
          "metadata": {}
        },
        {
          "output_type": "display_data",
          "data": {
            "text/plain": [
              "<Figure size 640x480 with 1 Axes>"
            ],
            "image/png": "[encoded data removed]"
          },
          "metadata": {}
        }
      ]
    },
    {
      "cell_type": "markdown",
      "source": [
        "### 2. 1차 모델의 문제점 및 개선 방안"
      ],
      "metadata": {
        "id": "b_L-eDBXl3m2"
      }
    },
    {
      "cell_type": "markdown",
      "source": [
        "#### 2.1 모델의 문제점"
      ],
      "metadata": {
        "id": "ZMLKSA7jl_Os"
      }
    },
    {
      "cell_type": "markdown",
      "source": [
        "- Training & Validation Accuracy 그래프에서,   \n",
        "Training accracy는 높으나 Validation accuracy는 낮은 경향을 보임   \n",
        "   \n",
        "- Training & Validation Loss 그래프에서,   \n",
        "Training loss는 낮으나 Validation loss는 높은 경향을 보임   \n",
        "\n",
        "    \n",
        "**따라서**   \n",
        "모델이 Training Data에 과적합 되었음을 알 수 있다."
      ],
      "metadata": {
        "id": "zd2n8Yd_mGek"
      }
    },
    {
      "cell_type": "markdown",
      "source": [
        "결국 Test Accuracy 그래프와 Test Loss 그래프에서 볼 수 있듯,    \n",
        "모델 성능이 매우 좋지 않았다."
      ],
      "metadata": {
        "id": "rz9fiUcWuavc"
      }
    },
    {
      "cell_type": "markdown",
      "source": [
        "#### 2.2 개선 방안"
      ],
      "metadata": {
        "id": "ZnxIULP4mHKk"
      }
    },
    {
      "cell_type": "markdown",
      "source": [
        "일반적으로 과적합 상황에서 CNN 모델을 개선할 수 있는 방안은 다음과 같다.\n",
        "1. 학습 데이터 양 증대 및 전처리 개선\n",
        "2. 모델의 복잡도 조정 혹은 전이 학습\n",
        "3. 정규화 기법 사용(드롭아웃, 배치 정규화 등)\n",
        "4. 하이퍼파라미터 조정\n",
        "5. Loss Function과 Optimizer 변경\n",
        "6. 앙상블"
      ],
      "metadata": {
        "id": "-45XTovvrf8Y"
      }
    },
    {
      "cell_type": "markdown",
      "source": [
        "### 3. 개선과정(1) - 데이터 증강 및 전이 학습"
      ],
      "metadata": {
        "id": "p2ewQco8xQ1E"
      }
    }
  ],
  "metadata": {
    "colab": {
      "provenance": [],
      "gpuType": "T4",
      "collapsed_sections": [
        "QMYmQNcmjiQ-",
        "ogRGmSJ4kU4C",
        "xnDcvrfCmpLm",
        "xfKgljKBnlmX",
        "qdJHfp43nvqX",
        "5rI4655Xn-0X"
      ],
      "include_colab_link": true
    },
    "kernelspec": {
      "display_name": "Python 3",
      "name": "python3"
    },
    "language_info": {
      "name": "python"
    },
    "accelerator": "GPU"
  },
  "nbformat": 4,
  "nbformat_minor": 0
}