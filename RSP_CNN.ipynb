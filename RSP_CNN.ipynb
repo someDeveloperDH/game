{
  "cells": [
    {
      "cell_type": "markdown",
      "metadata": {
        "id": "view-in-github",
        "colab_type": "text"
      },
      "source": [
        "<a href=\"https://colab.research.google.com/github/someDeveloperDH/game/blob/Vlolet/RSP_CNN.ipynb\" target=\"_parent\"><img src=\"https://colab.research.google.com/assets/colab-badge.svg\" alt=\"Open In Colab\"/></a>"
      ]
    },
    {
      "cell_type": "markdown",
      "source": [
        "# 2024-1학기 딥러닝 - 기말 팀 프로젝트\n",
        "## **가위 바위 보 분류하기(RPS Classification)**\n",
        "   \n",
        "\n",
        "T1 (박동혁, 이유준, 배도현)"
      ],
      "metadata": {
        "id": "s3gh5itZjLYM"
      }
    },
    {
      "cell_type": "markdown",
      "source": [
        "###1. 1차 모델"
      ],
      "metadata": {
        "id": "QMYmQNcmjiQ-"
      }
    },
    {
      "cell_type": "markdown",
      "source": [
        "#### 1-1. 학습 준비"
      ],
      "metadata": {
        "id": "ogRGmSJ4kU4C"
      }
    },
    {
      "cell_type": "code",
      "execution_count": null,
      "metadata": {
        "colab": {
          "base_uri": "https://localhost:8080/"
        },
        "id": "r2YFce2FCBct",
        "outputId": "f6d760de-cda3-4d04-bffb-6f19e6373429"
      },
      "outputs": [
        {
          "output_type": "stream",
          "name": "stdout",
          "text": [
            "Mounted at /content/drive\n"
          ]
        }
      ],
      "source": [
        "from google.colab import drive\n",
        "drive.mount(\"/content/drive\")"
      ]
    },
    {
      "cell_type": "code",
      "execution_count": null,
      "metadata": {
        "id": "3xdafpV1Y0TA"
      },
      "outputs": [],
      "source": [
        "import tensorflow as tf\n",
        "import matplotlib.pyplot as plt\n",
        "import matplotlib.image as mpimg\n",
        "import numpy as np\n",
        "import os\n",
        "from random import shuffle\n",
        "from tensorflow.keras.preprocessing import image\n",
        "from tensorflow.keras.preprocessing.image import ImageDataGenerator"
      ]
    },
    {
      "cell_type": "markdown",
      "source": [
        "##### Data 경로 설정"
      ],
      "metadata": {
        "id": "WU3JjWFei_qJ"
      }
    },
    {
      "cell_type": "code",
      "execution_count": null,
      "metadata": {
        "id": "478fNXdyZGB3"
      },
      "outputs": [],
      "source": [
        "# 필요시 경로 수정 필수\n",
        "base_dir = \"/content/drive/MyDrive/Colab Notebooks/myRPS/RPS\"\n",
        "\n",
        "train_dir = os.path.join(base_dir,\"train\")\n",
        "test_dir = os.path.join(base_dir,\"test\")\n",
        "\n",
        "train_paper_dir = os.path.join(train_dir,\"paper\") # 각 650개\n",
        "train_rock_dir = os.path.join(train_dir,\"rock\")\n",
        "train_scissors_dir = os.path.join(train_dir,\"scissors\")\n",
        "\n",
        "test_paper_dir = os.path.join(test_dir,\"paper\") # 각 90개\n",
        "test_rock_dir = os.path.join(test_dir,\"rock\")\n",
        "test_scissors_dir = os.path.join(test_dir,\"scissors\")"
      ]
    },
    {
      "cell_type": "markdown",
      "source": [
        "#### 1-2. Data 전처리"
      ],
      "metadata": {
        "id": "xnDcvrfCmpLm"
      }
    },
    {
      "cell_type": "code",
      "execution_count": null,
      "metadata": {
        "colab": {
          "base_uri": "https://localhost:8080/"
        },
        "id": "CgkVJZdIY1yx",
        "outputId": "d3cc8b10-1e6d-4ba3-f680-68efd75b1509"
      },
      "outputs": [
        {
          "output_type": "stream",
          "name": "stdout",
          "text": [
            "<keras.src.preprocessing.image.ImageDataGenerator object at 0x7dabcd90b310>\n"
          ]
        }
      ],
      "source": [
        "train_datagen = ImageDataGenerator(rescale = 1./255, validation_split=0.3)\n",
        "test_datagen = ImageDataGenerator(rescale = 1./255)\n",
        "\n",
        "print(train_datagen)"
      ]
    },
    {
      "cell_type": "code",
      "execution_count": null,
      "metadata": {
        "colab": {
          "base_uri": "https://localhost:8080/"
        },
        "id": "svdN-oYNd_Vi",
        "outputId": "f2cb420d-c27c-4cdd-db7d-51e942150c85"
      },
      "outputs": [
        {
          "output_type": "stream",
          "name": "stdout",
          "text": [
            "Found 1365 images belonging to 3 classes.\n",
            "Found 585 images belonging to 3 classes.\n",
            "Found 270 images belonging to 3 classes.\n",
            "훈련 이미지 개수: 1365\n",
            "검증 이미지 개수: 585\n",
            "테스트 이미지 개수: 270\n"
          ]
        }
      ],
      "source": [
        "train_generator = train_datagen.flow_from_directory(train_dir,\n",
        "                                                    subset='training',  # subset 미설정 시 분리되지 않음\n",
        "                                                    batch_size=16,\n",
        "                                                    color_mode='rgb',\n",
        "                                                    class_mode='categorical',\n",
        "                                                    target_size=(224,224))\n",
        "validation_generator = train_datagen.flow_from_directory(train_dir,\n",
        "                                                         subset='validation',\n",
        "                                                              batch_size=4,\n",
        "                                                              color_mode='rgb',\n",
        "                                                              class_mode='categorical',\n",
        "                                                              target_size=(224,224))\n",
        "test_generator = test_datagen.flow_from_directory(test_dir,\n",
        "                                                  batch_size=4,\n",
        "                                                  color_mode='rgb',\n",
        "                                                  class_mode='categorical',\n",
        "                                                  target_size=(224,224))\n",
        "print(f\"훈련 이미지 개수: {train_generator.samples}\")\n",
        "print(f\"검증 이미지 개수: {validation_generator.samples}\")\n",
        "print(f\"테스트 이미지 개수: {test_generator.samples}\")"
      ]
    },
    {
      "cell_type": "code",
      "execution_count": null,
      "metadata": {
        "id": "L9O_sAmSffVw",
        "colab": {
          "base_uri": "https://localhost:8080/"
        },
        "outputId": "e5f01833-1319-4c18-ecb4-eaa2656f6ee5"
      },
      "outputs": [
        {
          "output_type": "execute_result",
          "data": {
            "text/plain": [
              "{'paper': 0, 'rock': 1, 'scissors': 2}"
            ]
          },
          "metadata": {},
          "execution_count": 6
        }
      ],
      "source": [
        "# 폴더기준으로 자동으로 클래스 나눈거 확인\n",
        "train_generator.class_indices"
      ]
    },
    {
      "cell_type": "markdown",
      "source": [
        "#### 1-3. 모델 생성"
      ],
      "metadata": {
        "id": "xfKgljKBnlmX"
      }
    },
    {
      "cell_type": "code",
      "execution_count": null,
      "metadata": {
        "id": "G0d8bw73mfGy",
        "colab": {
          "base_uri": "https://localhost:8080/"
        },
        "outputId": "e85a5565-fdf0-4901-fe06-6e37a9bdc772"
      },
      "outputs": [
        {
          "output_type": "stream",
          "name": "stdout",
          "text": [
            "Model: \"sequential\"\n",
            "_________________________________________________________________\n",
            " Layer (type)                Output Shape              Param #   \n",
            "=================================================================\n",
            " conv2d (Conv2D)             (None, 222, 222, 32)      896       \n",
            "                                                                 \n",
            " max_pooling2d (MaxPooling2  (None, 111, 111, 32)      0         \n",
            " D)                                                              \n",
            "                                                                 \n",
            " conv2d_1 (Conv2D)           (None, 109, 109, 64)      18496     \n",
            "                                                                 \n",
            " max_pooling2d_1 (MaxPoolin  (None, 54, 54, 64)        0         \n",
            " g2D)                                                            \n",
            "                                                                 \n",
            " conv2d_2 (Conv2D)           (None, 52, 52, 128)       73856     \n",
            "                                                                 \n",
            " max_pooling2d_2 (MaxPoolin  (None, 26, 26, 128)       0         \n",
            " g2D)                                                            \n",
            "                                                                 \n",
            " conv2d_3 (Conv2D)           (None, 24, 24, 256)       295168    \n",
            "                                                                 \n",
            " max_pooling2d_3 (MaxPoolin  (None, 12, 12, 256)       0         \n",
            " g2D)                                                            \n",
            "                                                                 \n",
            " flatten (Flatten)           (None, 36864)             0         \n",
            "                                                                 \n",
            " dense (Dense)               (None, 256)               9437440   \n",
            "                                                                 \n",
            " dense_1 (Dense)             (None, 128)               32896     \n",
            "                                                                 \n",
            " dense_2 (Dense)             (None, 64)                8256      \n",
            "                                                                 \n",
            " dense_3 (Dense)             (None, 3)                 195       \n",
            "                                                                 \n",
            "=================================================================\n",
            "Total params: 9867203 (37.64 MB)\n",
            "Trainable params: 9867203 (37.64 MB)\n",
            "Non-trainable params: 0 (0.00 Byte)\n",
            "_________________________________________________________________\n"
          ]
        }
      ],
      "source": [
        "model = tf.keras.models.Sequential([\n",
        "    tf.keras.layers.Conv2D(32, (3,3), activation='relu', input_shape=(224, 224, 3)),\n",
        "    tf.keras.layers.MaxPooling2D(2,2),\n",
        "    tf.keras.layers.Conv2D(64, (3,3), activation='relu'),\n",
        "    tf.keras.layers.MaxPooling2D(2,2),\n",
        "    tf.keras.layers.Conv2D(128, (3,3), activation='relu'),\n",
        "    tf.keras.layers.MaxPooling2D(2,2),\n",
        "    tf.keras.layers.Conv2D(256, (3,3), activation='relu'),\n",
        "    tf.keras.layers.MaxPooling2D(2,2),\n",
        "    tf.keras.layers.Flatten(),\n",
        "    tf.keras.layers.Dense(256, activation='relu'),\n",
        "    tf.keras.layers.Dense(128, activation='relu'),\n",
        "    tf.keras.layers.Dense(64, activation='relu'),\n",
        "    tf.keras.layers.Dense(3, activation='softmax')\n",
        "])\n",
        "model.summary()"
      ]
    },
    {
      "cell_type": "code",
      "execution_count": null,
      "metadata": {
        "id": "newn0TAKm028"
      },
      "outputs": [],
      "source": [
        "from tensorflow.keras.optimizers import Adam\n",
        "model.compile(optimizer=Adam(learning_rate=0.001),\n",
        "              loss='categorical_crossentropy',\n",
        "              metrics= ['accuracy'])\n"
      ]
    },
    {
      "cell_type": "markdown",
      "source": [
        "#### 1-4. 모델 학습"
      ],
      "metadata": {
        "id": "qdJHfp43nvqX"
      }
    },
    {
      "cell_type": "code",
      "execution_count": null,
      "metadata": {
        "id": "VbStvnMEm_Uu",
        "colab": {
          "base_uri": "https://localhost:8080/"
        },
        "outputId": "eb6dbc50-8a8e-446f-ca91-be46b2ac7e50"
      },
      "outputs": [
        {
          "output_type": "stream",
          "name": "stderr",
          "text": [
            "<ipython-input-9-1e5eb6015191>:1: UserWarning: `Model.fit_generator` is deprecated and will be removed in a future version. Please use `Model.fit`, which supports generators.\n",
            "  history = model.fit_generator(train_generator,\n"
          ]
        },
        {
          "output_type": "stream",
          "name": "stdout",
          "text": [
            "Epoch 1/100\n",
            "10/10 - 61s - loss: 1.3715 - accuracy: 0.3063 - val_loss: 1.0999 - val_accuracy: 0.3250 - 61s/epoch - 6s/step\n",
            "Epoch 2/100\n",
            "10/10 - 60s - loss: 1.0984 - accuracy: 0.3750 - val_loss: 1.0945 - val_accuracy: 0.4000 - 60s/epoch - 6s/step\n",
            "Epoch 3/100\n",
            "10/10 - 38s - loss: 1.1001 - accuracy: 0.3063 - val_loss: 1.0948 - val_accuracy: 0.3750 - 38s/epoch - 4s/step\n",
            "Epoch 4/100\n",
            "10/10 - 36s - loss: 1.0984 - accuracy: 0.3688 - val_loss: 1.0991 - val_accuracy: 0.2750 - 36s/epoch - 4s/step\n",
            "Epoch 5/100\n",
            "10/10 - 39s - loss: 1.1050 - accuracy: 0.2875 - val_loss: 1.0893 - val_accuracy: 0.3750 - 39s/epoch - 4s/step\n",
            "Epoch 6/100\n",
            "10/10 - 31s - loss: 1.0983 - accuracy: 0.3187 - val_loss: 1.1025 - val_accuracy: 0.2750 - 31s/epoch - 3s/step\n",
            "Epoch 7/100\n",
            "10/10 - 28s - loss: 1.0976 - accuracy: 0.3562 - val_loss: 1.1166 - val_accuracy: 0.3000 - 28s/epoch - 3s/step\n",
            "Epoch 8/100\n",
            "10/10 - 21s - loss: 1.0988 - accuracy: 0.3688 - val_loss: 1.1073 - val_accuracy: 0.2500 - 21s/epoch - 2s/step\n",
            "Epoch 9/100\n",
            "10/10 - 21s - loss: 1.1208 - accuracy: 0.3688 - val_loss: 1.0996 - val_accuracy: 0.3500 - 21s/epoch - 2s/step\n",
            "Epoch 10/100\n",
            "10/10 - 19s - loss: 1.0978 - accuracy: 0.3688 - val_loss: 1.0628 - val_accuracy: 0.5500 - 19s/epoch - 2s/step\n",
            "Epoch 11/100\n",
            "10/10 - 15s - loss: 1.0841 - accuracy: 0.4161 - val_loss: 1.1981 - val_accuracy: 0.3000 - 15s/epoch - 1s/step\n",
            "Epoch 12/100\n",
            "10/10 - 13s - loss: 1.0662 - accuracy: 0.4000 - val_loss: 1.0837 - val_accuracy: 0.4000 - 13s/epoch - 1s/step\n",
            "Epoch 13/100\n",
            "10/10 - 18s - loss: 1.0541 - accuracy: 0.4062 - val_loss: 1.1209 - val_accuracy: 0.3250 - 18s/epoch - 2s/step\n",
            "Epoch 14/100\n",
            "10/10 - 12s - loss: 1.0677 - accuracy: 0.4375 - val_loss: 1.0719 - val_accuracy: 0.4250 - 12s/epoch - 1s/step\n",
            "Epoch 15/100\n",
            "10/10 - 7s - loss: 1.0750 - accuracy: 0.4000 - val_loss: 1.1284 - val_accuracy: 0.4000 - 7s/epoch - 732ms/step\n",
            "Epoch 16/100\n",
            "10/10 - 11s - loss: 1.0966 - accuracy: 0.3688 - val_loss: 1.0822 - val_accuracy: 0.3250 - 11s/epoch - 1s/step\n",
            "Epoch 17/100\n",
            "10/10 - 6s - loss: 1.0977 - accuracy: 0.3187 - val_loss: 1.0755 - val_accuracy: 0.4000 - 6s/epoch - 609ms/step\n",
            "Epoch 18/100\n",
            "10/10 - 9s - loss: 1.0839 - accuracy: 0.3562 - val_loss: 1.1218 - val_accuracy: 0.4250 - 9s/epoch - 904ms/step\n",
            "Epoch 19/100\n",
            "10/10 - 8s - loss: 1.0827 - accuracy: 0.3500 - val_loss: 1.1085 - val_accuracy: 0.2500 - 8s/epoch - 805ms/step\n",
            "Epoch 20/100\n",
            "10/10 - 5s - loss: 1.0994 - accuracy: 0.3812 - val_loss: 1.1090 - val_accuracy: 0.3250 - 5s/epoch - 541ms/step\n",
            "Epoch 21/100\n",
            "10/10 - 6s - loss: 1.0912 - accuracy: 0.4000 - val_loss: 1.0875 - val_accuracy: 0.4250 - 6s/epoch - 599ms/step\n",
            "Epoch 22/100\n",
            "10/10 - 3s - loss: 1.0937 - accuracy: 0.3154 - val_loss: 1.0963 - val_accuracy: 0.3000 - 3s/epoch - 273ms/step\n",
            "Epoch 23/100\n",
            "10/10 - 4s - loss: 1.0990 - accuracy: 0.4062 - val_loss: 1.1486 - val_accuracy: 0.3000 - 4s/epoch - 384ms/step\n",
            "Epoch 24/100\n",
            "10/10 - 4s - loss: 1.0658 - accuracy: 0.4500 - val_loss: 1.1110 - val_accuracy: 0.4500 - 4s/epoch - 395ms/step\n",
            "Epoch 25/100\n",
            "10/10 - 4s - loss: 1.1692 - accuracy: 0.3250 - val_loss: 1.1014 - val_accuracy: 0.4000 - 4s/epoch - 410ms/step\n",
            "Epoch 26/100\n",
            "10/10 - 4s - loss: 1.0535 - accuracy: 0.3812 - val_loss: 1.0990 - val_accuracy: 0.3750 - 4s/epoch - 387ms/step\n",
            "Epoch 27/100\n",
            "10/10 - 4s - loss: 1.1065 - accuracy: 0.2937 - val_loss: 1.0695 - val_accuracy: 0.4250 - 4s/epoch - 408ms/step\n",
            "Epoch 28/100\n",
            "10/10 - 6s - loss: 1.0998 - accuracy: 0.3313 - val_loss: 1.0909 - val_accuracy: 0.3500 - 6s/epoch - 624ms/step\n",
            "Epoch 29/100\n",
            "10/10 - 3s - loss: 1.0973 - accuracy: 0.3688 - val_loss: 1.0951 - val_accuracy: 0.3500 - 3s/epoch - 264ms/step\n",
            "Epoch 30/100\n",
            "10/10 - 3s - loss: 1.0995 - accuracy: 0.3154 - val_loss: 1.0909 - val_accuracy: 0.2500 - 3s/epoch - 316ms/step\n",
            "Epoch 31/100\n",
            "10/10 - 2s - loss: 1.0957 - accuracy: 0.3625 - val_loss: 1.0839 - val_accuracy: 0.3500 - 2s/epoch - 208ms/step\n",
            "Epoch 32/100\n",
            "10/10 - 3s - loss: 1.0629 - accuracy: 0.3688 - val_loss: 1.1656 - val_accuracy: 0.4000 - 3s/epoch - 320ms/step\n",
            "Epoch 33/100\n",
            "10/10 - 3s - loss: 1.0601 - accuracy: 0.3375 - val_loss: 1.0221 - val_accuracy: 0.2250 - 3s/epoch - 251ms/step\n",
            "Epoch 34/100\n",
            "10/10 - 3s - loss: 1.0791 - accuracy: 0.3250 - val_loss: 1.0771 - val_accuracy: 0.3750 - 3s/epoch - 330ms/step\n",
            "Epoch 35/100\n",
            "10/10 - 2s - loss: 1.0799 - accuracy: 0.3562 - val_loss: 1.0944 - val_accuracy: 0.2750 - 2s/epoch - 236ms/step\n",
            "Epoch 36/100\n",
            "10/10 - 4s - loss: 1.0627 - accuracy: 0.3625 - val_loss: 1.0944 - val_accuracy: 0.3250 - 4s/epoch - 365ms/step\n",
            "Epoch 37/100\n",
            "10/10 - 2s - loss: 1.0411 - accuracy: 0.3688 - val_loss: 1.1303 - val_accuracy: 0.3000 - 2s/epoch - 231ms/step\n",
            "Epoch 38/100\n",
            "10/10 - 1s - loss: 1.0397 - accuracy: 0.3875 - val_loss: 1.1103 - val_accuracy: 0.2000 - 1s/epoch - 106ms/step\n",
            "Epoch 39/100\n",
            "10/10 - 3s - loss: 1.0217 - accuracy: 0.4228 - val_loss: 1.1325 - val_accuracy: 0.3000 - 3s/epoch - 334ms/step\n",
            "Epoch 40/100\n",
            "10/10 - 2s - loss: 1.0234 - accuracy: 0.4437 - val_loss: 1.0555 - val_accuracy: 0.3250 - 2s/epoch - 178ms/step\n",
            "Epoch 41/100\n",
            "10/10 - 2s - loss: 1.1127 - accuracy: 0.3960 - val_loss: 1.0960 - val_accuracy: 0.3750 - 2s/epoch - 184ms/step\n",
            "Epoch 42/100\n",
            "10/10 - 2s - loss: 1.0436 - accuracy: 0.4500 - val_loss: 1.1439 - val_accuracy: 0.2250 - 2s/epoch - 226ms/step\n",
            "Epoch 43/100\n",
            "10/10 - 2s - loss: 1.0754 - accuracy: 0.3625 - val_loss: 1.0643 - val_accuracy: 0.4500 - 2s/epoch - 209ms/step\n",
            "Epoch 44/100\n",
            "10/10 - 3s - loss: 1.0779 - accuracy: 0.3562 - val_loss: 1.1163 - val_accuracy: 0.3750 - 3s/epoch - 340ms/step\n",
            "Epoch 45/100\n",
            "10/10 - 3s - loss: 1.0876 - accuracy: 0.3625 - val_loss: 1.1819 - val_accuracy: 0.3250 - 3s/epoch - 339ms/step\n",
            "Epoch 46/100\n",
            "10/10 - 2s - loss: 1.0753 - accuracy: 0.3557 - val_loss: 1.0579 - val_accuracy: 0.4000 - 2s/epoch - 232ms/step\n",
            "Epoch 47/100\n",
            "10/10 - 1s - loss: 1.1001 - accuracy: 0.3500 - val_loss: 1.0782 - val_accuracy: 0.4250 - 1s/epoch - 111ms/step\n",
            "Epoch 48/100\n",
            "10/10 - 2s - loss: 1.0179 - accuracy: 0.4625 - val_loss: 1.1015 - val_accuracy: 0.3750 - 2s/epoch - 218ms/step\n",
            "Epoch 49/100\n",
            "10/10 - 2s - loss: 1.0938 - accuracy: 0.4187 - val_loss: 1.1264 - val_accuracy: 0.3750 - 2s/epoch - 190ms/step\n",
            "Epoch 50/100\n",
            "10/10 - 1s - loss: 1.0744 - accuracy: 0.4000 - val_loss: 1.0815 - val_accuracy: 0.3000 - 1s/epoch - 103ms/step\n",
            "Epoch 51/100\n",
            "10/10 - 2s - loss: 1.0854 - accuracy: 0.3125 - val_loss: 1.0818 - val_accuracy: 0.4500 - 2s/epoch - 155ms/step\n",
            "Epoch 52/100\n",
            "10/10 - 2s - loss: 0.9880 - accuracy: 0.4062 - val_loss: 1.2786 - val_accuracy: 0.4500 - 2s/epoch - 216ms/step\n",
            "Epoch 53/100\n",
            "10/10 - 2s - loss: 1.0247 - accuracy: 0.4750 - val_loss: 1.1300 - val_accuracy: 0.4500 - 2s/epoch - 164ms/step\n",
            "Epoch 54/100\n",
            "10/10 - 2s - loss: 1.0331 - accuracy: 0.3812 - val_loss: 1.1622 - val_accuracy: 0.3250 - 2s/epoch - 153ms/step\n",
            "Epoch 55/100\n",
            "10/10 - 1s - loss: 1.0377 - accuracy: 0.3562 - val_loss: 1.2301 - val_accuracy: 0.2000 - 1s/epoch - 114ms/step\n",
            "Epoch 56/100\n",
            "10/10 - 1s - loss: 0.9469 - accuracy: 0.5125 - val_loss: 1.5103 - val_accuracy: 0.3250 - 1s/epoch - 114ms/step\n",
            "Epoch 57/100\n",
            "10/10 - 1s - loss: 0.9955 - accuracy: 0.4688 - val_loss: 1.2303 - val_accuracy: 0.4000 - 1s/epoch - 134ms/step\n",
            "Epoch 58/100\n",
            "10/10 - 2s - loss: 1.0013 - accuracy: 0.4375 - val_loss: 1.1956 - val_accuracy: 0.3250 - 2s/epoch - 205ms/step\n",
            "Epoch 59/100\n",
            "10/10 - 1s - loss: 0.9782 - accuracy: 0.5312 - val_loss: 1.1372 - val_accuracy: 0.4500 - 1s/epoch - 147ms/step\n",
            "Epoch 60/100\n",
            "10/10 - 2s - loss: 1.0299 - accuracy: 0.4375 - val_loss: 1.5300 - val_accuracy: 0.4000 - 2s/epoch - 197ms/step\n",
            "Epoch 61/100\n",
            "10/10 - 1s - loss: 1.0112 - accuracy: 0.4812 - val_loss: 1.0815 - val_accuracy: 0.3750 - 1s/epoch - 144ms/step\n",
            "Epoch 62/100\n",
            "10/10 - 1s - loss: 1.0387 - accuracy: 0.3750 - val_loss: 1.0349 - val_accuracy: 0.3750 - 1s/epoch - 141ms/step\n",
            "Epoch 63/100\n",
            "10/10 - 1s - loss: 0.9634 - accuracy: 0.4938 - val_loss: 1.0939 - val_accuracy: 0.4250 - 1s/epoch - 120ms/step\n",
            "Epoch 64/100\n",
            "10/10 - 1s - loss: 0.9523 - accuracy: 0.4812 - val_loss: 1.2785 - val_accuracy: 0.3500 - 1s/epoch - 115ms/step\n",
            "Epoch 65/100\n",
            "10/10 - 1s - loss: 0.9074 - accuracy: 0.5235 - val_loss: 1.4016 - val_accuracy: 0.4250 - 1s/epoch - 132ms/step\n",
            "Epoch 66/100\n",
            "10/10 - 1s - loss: 1.0019 - accuracy: 0.4313 - val_loss: 1.4548 - val_accuracy: 0.3500 - 1s/epoch - 131ms/step\n",
            "Epoch 67/100\n",
            "10/10 - 2s - loss: 0.8948 - accuracy: 0.5437 - val_loss: 1.4901 - val_accuracy: 0.4750 - 2s/epoch - 154ms/step\n",
            "Epoch 68/100\n",
            "10/10 - 1s - loss: 0.9494 - accuracy: 0.5063 - val_loss: 1.6236 - val_accuracy: 0.4750 - 1s/epoch - 114ms/step\n",
            "Epoch 69/100\n",
            "10/10 - 1s - loss: 0.9136 - accuracy: 0.5625 - val_loss: 1.2522 - val_accuracy: 0.3250 - 1s/epoch - 134ms/step\n",
            "Epoch 70/100\n",
            "10/10 - 1s - loss: 0.8727 - accuracy: 0.5625 - val_loss: 1.1454 - val_accuracy: 0.4500 - 1s/epoch - 146ms/step\n",
            "Epoch 71/100\n",
            "10/10 - 1s - loss: 0.9802 - accuracy: 0.5125 - val_loss: 0.9519 - val_accuracy: 0.3000 - 1s/epoch - 123ms/step\n",
            "Epoch 72/100\n",
            "10/10 - 2s - loss: 1.1384 - accuracy: 0.4688 - val_loss: 1.1230 - val_accuracy: 0.2750 - 2s/epoch - 221ms/step\n",
            "Epoch 73/100\n",
            "10/10 - 1s - loss: 0.9627 - accuracy: 0.4875 - val_loss: 0.9302 - val_accuracy: 0.6000 - 1s/epoch - 143ms/step\n",
            "Epoch 74/100\n",
            "10/10 - 2s - loss: 0.9442 - accuracy: 0.4750 - val_loss: 1.0864 - val_accuracy: 0.4250 - 2s/epoch - 221ms/step\n",
            "Epoch 75/100\n",
            "10/10 - 2s - loss: 0.8516 - accuracy: 0.5875 - val_loss: 1.3642 - val_accuracy: 0.5000 - 2s/epoch - 155ms/step\n",
            "Epoch 76/100\n",
            "10/10 - 1s - loss: 0.8597 - accuracy: 0.5750 - val_loss: 2.3693 - val_accuracy: 0.3750 - 1s/epoch - 112ms/step\n",
            "Epoch 77/100\n",
            "10/10 - 1s - loss: 0.7921 - accuracy: 0.6062 - val_loss: 1.8779 - val_accuracy: 0.4000 - 1s/epoch - 145ms/step\n",
            "Epoch 78/100\n",
            "10/10 - 1s - loss: 0.7463 - accuracy: 0.6375 - val_loss: 1.1971 - val_accuracy: 0.5250 - 1s/epoch - 125ms/step\n",
            "Epoch 79/100\n",
            "10/10 - 1s - loss: 0.7531 - accuracy: 0.6438 - val_loss: 1.5936 - val_accuracy: 0.3750 - 1s/epoch - 128ms/step\n",
            "Epoch 80/100\n",
            "10/10 - 1s - loss: 0.6717 - accuracy: 0.6644 - val_loss: 1.1131 - val_accuracy: 0.5500 - 1s/epoch - 142ms/step\n",
            "Epoch 81/100\n",
            "10/10 - 1s - loss: 0.7459 - accuracy: 0.6750 - val_loss: 1.2369 - val_accuracy: 0.5000 - 1s/epoch - 114ms/step\n",
            "Epoch 82/100\n",
            "10/10 - 1s - loss: 0.6754 - accuracy: 0.7375 - val_loss: 1.4532 - val_accuracy: 0.4500 - 1s/epoch - 145ms/step\n",
            "Epoch 83/100\n",
            "10/10 - 2s - loss: 0.7006 - accuracy: 0.6687 - val_loss: 1.0650 - val_accuracy: 0.5500 - 2s/epoch - 167ms/step\n",
            "Epoch 84/100\n",
            "10/10 - 2s - loss: 0.6168 - accuracy: 0.7375 - val_loss: 1.1046 - val_accuracy: 0.5750 - 2s/epoch - 157ms/step\n",
            "Epoch 85/100\n",
            "10/10 - 1s - loss: 0.6243 - accuracy: 0.7688 - val_loss: 1.0443 - val_accuracy: 0.5000 - 1s/epoch - 138ms/step\n",
            "Epoch 86/100\n",
            "10/10 - 1s - loss: 0.5446 - accuracy: 0.7750 - val_loss: 1.1953 - val_accuracy: 0.6250 - 1s/epoch - 146ms/step\n",
            "Epoch 87/100\n",
            "10/10 - 1s - loss: 0.6176 - accuracy: 0.7750 - val_loss: 2.1893 - val_accuracy: 0.5500 - 1s/epoch - 119ms/step\n",
            "Epoch 88/100\n",
            "10/10 - 1s - loss: 0.5802 - accuracy: 0.7375 - val_loss: 1.5076 - val_accuracy: 0.4750 - 1s/epoch - 109ms/step\n",
            "Epoch 89/100\n",
            "10/10 - 1s - loss: 0.4213 - accuracy: 0.8438 - val_loss: 0.9322 - val_accuracy: 0.6250 - 1s/epoch - 102ms/step\n",
            "Epoch 90/100\n",
            "10/10 - 1s - loss: 0.6732 - accuracy: 0.7250 - val_loss: 1.5273 - val_accuracy: 0.4750 - 1s/epoch - 118ms/step\n",
            "Epoch 91/100\n",
            "10/10 - 1s - loss: 0.5106 - accuracy: 0.7875 - val_loss: 1.1990 - val_accuracy: 0.5250 - 1s/epoch - 121ms/step\n",
            "Epoch 92/100\n",
            "10/10 - 2s - loss: 0.3050 - accuracy: 0.8658 - val_loss: 1.3893 - val_accuracy: 0.5000 - 2s/epoch - 160ms/step\n",
            "Epoch 93/100\n",
            "10/10 - 1s - loss: 0.3478 - accuracy: 0.8500 - val_loss: 1.4784 - val_accuracy: 0.5750 - 1s/epoch - 147ms/step\n",
            "Epoch 94/100\n",
            "10/10 - 1s - loss: 0.3155 - accuracy: 0.8938 - val_loss: 1.5563 - val_accuracy: 0.5250 - 1s/epoch - 105ms/step\n",
            "Epoch 95/100\n",
            "10/10 - 1s - loss: 0.2354 - accuracy: 0.9250 - val_loss: 1.8784 - val_accuracy: 0.6500 - 1s/epoch - 149ms/step\n",
            "Epoch 96/100\n",
            "10/10 - 1s - loss: 0.2980 - accuracy: 0.8687 - val_loss: 1.5420 - val_accuracy: 0.5000 - 1s/epoch - 135ms/step\n",
            "Epoch 97/100\n",
            "10/10 - 1s - loss: 0.2765 - accuracy: 0.8750 - val_loss: 1.0438 - val_accuracy: 0.7250 - 1s/epoch - 128ms/step\n",
            "Epoch 98/100\n",
            "10/10 - 1s - loss: 0.2610 - accuracy: 0.9062 - val_loss: 1.9759 - val_accuracy: 0.6000 - 1s/epoch - 114ms/step\n",
            "Epoch 99/100\n",
            "10/10 - 1s - loss: 0.2036 - accuracy: 0.9438 - val_loss: 1.8611 - val_accuracy: 0.5500 - 969ms/epoch - 97ms/step\n",
            "Epoch 100/100\n",
            "10/10 - 1s - loss: 0.1846 - accuracy: 0.9250 - val_loss: 2.2707 - val_accuracy: 0.5000 - 1s/epoch - 148ms/step\n"
          ]
        }
      ],
      "source": [
        "history = model.fit_generator(train_generator,\n",
        "                              validation_data=validation_generator,\n",
        "                              steps_per_epoch=10,\n",
        "                              epochs=100,\n",
        "                              validation_steps=10,\n",
        "                              verbose=2)"
      ]
    },
    {
      "cell_type": "markdown",
      "source": [
        "#### 1-5. 모델 평가 및 학습 과정 시각화"
      ],
      "metadata": {
        "id": "5rI4655Xn-0X"
      }
    },
    {
      "cell_type": "code",
      "execution_count": null,
      "metadata": {
        "id": "Sk9Ybww7nI9-",
        "colab": {
          "base_uri": "https://localhost:8080/"
        },
        "outputId": "91ded2ed-8b5c-4cb6-bdac-227d0fe3cf20"
      },
      "outputs": [
        {
          "output_type": "stream",
          "name": "stdout",
          "text": [
            "86/86 [==============================] - 8s 95ms/step - loss: 0.2293 - accuracy: 0.9267\n"
          ]
        },
        {
          "output_type": "execute_result",
          "data": {
            "text/plain": [
              "[0.22931018471717834, 0.9267399311065674]"
            ]
          },
          "metadata": {},
          "execution_count": 10
        }
      ],
      "source": [
        "model.evaluate(train_generator)"
      ]
    },
    {
      "cell_type": "code",
      "execution_count": null,
      "metadata": {
        "id": "P9A-UzXynLKK",
        "colab": {
          "base_uri": "https://localhost:8080/"
        },
        "outputId": "e0b2e6ca-3c47-48d2-9da1-93d6136846ac"
      },
      "outputs": [
        {
          "output_type": "stream",
          "name": "stdout",
          "text": [
            "147/147 [==============================] - 4s 28ms/step - loss: 2.6963 - accuracy: 0.5880\n"
          ]
        },
        {
          "output_type": "execute_result",
          "data": {
            "text/plain": [
              "[2.696296215057373, 0.5880342125892639]"
            ]
          },
          "metadata": {},
          "execution_count": 11
        }
      ],
      "source": [
        "model.evaluate(validation_generator)"
      ]
    },
    {
      "cell_type": "code",
      "execution_count": null,
      "metadata": {
        "id": "9IiLaWQQnPkg",
        "colab": {
          "base_uri": "https://localhost:8080/",
          "height": 887
        },
        "outputId": "9a5619a8-0e01-463d-88b2-1bba22276efc"
      },
      "outputs": [
        {
          "output_type": "display_data",
          "data": {
            "text/plain": [
              "<Figure size 640x480 with 1 Axes>"
            ],
            "image/png": "[encoded data removed]"
          },
          "metadata": {}
        },
        {
          "output_type": "display_data",
          "data": {
            "text/plain": [
              "<Figure size 640x480 with 1 Axes>"
            ],
            "image/png": "[encoded data removed]"
          },
          "metadata": {}
        }
      ],
      "source": [
        "acc = history.history['accuracy']\n",
        "val_acc = history.history['val_accuracy']\n",
        "loss = history.history['loss']\n",
        "val_loss = history.history['val_loss']\n",
        "\n",
        "epochs = range(len(acc))\n",
        "\n",
        "plt.plot(epochs, acc, 'bo', label='Training accuracy')\n",
        "plt.plot(epochs, val_acc, 'b', label='Validation accuracy')\n",
        "plt.title('Training and validation accuracy')\n",
        "plt.legend()\n",
        "\n",
        "plt.figure()\n",
        "\n",
        "plt.plot(epochs, loss, 'go', label='Training loss')\n",
        "plt.plot(epochs, val_loss, 'g', label='Validation loss')\n",
        "plt.title('Training and validation loss')\n",
        "plt.legend()\n",
        "\n",
        "plt.show()"
      ]
    },
    {
      "cell_type": "code",
      "source": [
        "test_loss, test_acc = model.evaluate(test_generator, steps=20)\n",
        "\n",
        "print('Test accuracy:', test_acc)\n",
        "print('Test loss:', test_loss)\n",
        "\n",
        "plt.figure()\n",
        "\n",
        "plt.plot(epochs, [test_acc]*len(epochs), 'ro', label='Test accuracy')\n",
        "plt.title('Test accuracy')\n",
        "plt.legend()\n",
        "\n",
        "plt.figure()\n",
        "\n",
        "plt.plot(epochs, [test_loss]*len(epochs), 'mo', label='Test loss')\n",
        "plt.title('Test loss')\n",
        "plt.legend()\n",
        "\n",
        "plt.show()"
      ],
      "metadata": {
        "id": "nXn4at6F5Sba",
        "colab": {
          "base_uri": "https://localhost:8080/",
          "height": 943
        },
        "outputId": "82ac9600-a822-4e2b-f70b-9e6d409d014f"
      },
      "execution_count": null,
      "outputs": [
        {
          "output_type": "stream",
          "name": "stdout",
          "text": [
            "20/20 [==============================] - 31s 2s/step - loss: 1.0619 - accuracy: 0.7375\n",
            "Test accuracy: 0.737500011920929\n",
            "Test loss: 1.0618866682052612\n"
          ]
        },
        {
          "output_type": "display_data",
          "data": {
            "text/plain": [
              "<Figure size 640x480 with 1 Axes>"
            ],
            "image/png": "[encoded data removed]"
          },
          "metadata": {}
        },
        {
          "output_type": "display_data",
          "data": {
            "text/plain": [
              "<Figure size 640x480 with 1 Axes>"
            ],
            "image/png": "[encoded data removed]"
          },
          "metadata": {}
        }
      ]
    },
    {
      "cell_type": "markdown",
      "source": [
        "### 2. 1차 모델의 문제점 및 개선 방안"
      ],
      "metadata": {
        "id": "b_L-eDBXl3m2"
      }
    },
    {
      "cell_type": "markdown",
      "source": [
        "#### 2.1 모델의 문제점"
      ],
      "metadata": {
        "id": "ZMLKSA7jl_Os"
      }
    },
    {
      "cell_type": "markdown",
      "source": [
        "- Training & Validation Accuracy 그래프에서,   \n",
        "Training accracy는 높으나 Validation accuracy는 낮은 경향을 보임   \n",
        "   \n",
        "- Training & Validation Loss 그래프에서,   \n",
        "Training loss는 낮으나 Validation loss는 높은 경향을 보임   \n",
        "\n",
        "    \n",
        "**따라서**   \n",
        "모델이 Training Data에 과적합 되었음을 알 수 있다."
      ],
      "metadata": {
        "id": "zd2n8Yd_mGek"
      }
    },
    {
      "cell_type": "markdown",
      "source": [
        "결국 Test Accuracy 그래프와 Test Loss 그래프에서 볼 수 있듯,    \n",
        "모델 성능이 매우 좋지 않았다."
      ],
      "metadata": {
        "id": "rz9fiUcWuavc"
      }
    },
    {
      "cell_type": "markdown",
      "source": [
        "#### 2.2 개선 방안"
      ],
      "metadata": {
        "id": "ZnxIULP4mHKk"
      }
    },
    {
      "cell_type": "markdown",
      "source": [
        "일반적으로 과적합 상황에서 CNN 모델을 개선할 수 있는 방안은 다음과 같다.\n",
        "1. 학습 데이터 양 증대 및 전처리 개선\n",
        "2. 모델의 복잡도 조정 혹은 전이 학습\n",
        "3. 정규화 기법 사용(드롭아웃, 배치 정규화 등)\n",
        "4. 하이퍼파라미터 조정\n",
        "5. Loss Function과 Optimizer 변경\n",
        "6. 앙상블"
      ],
      "metadata": {
        "id": "-45XTovvrf8Y"
      }
    },
    {
      "cell_type": "markdown",
      "source": [
        "### 3. 개선과정(1) - 데이터 증강 및 전이 학습"
      ],
      "metadata": {
        "id": "p2ewQco8xQ1E"
      }
    },
    {
      "cell_type": "markdown",
      "source": [
        "전이 학습을 위한 모델로 Inception V4와 ResNet을 Ensemble 한 모델을 시도하였다."
      ],
      "metadata": {
        "id": "e-WRRlQr9RSD"
      }
    },
    {
      "cell_type": "markdown",
      "source": [
        "#### 3-1. 학습 준비\n",
        "1차 모델을 위에서 이미 실행했다면 실행할 필요 없음"
      ],
      "metadata": {
        "id": "MCuy54WE99rI"
      }
    },
    {
      "cell_type": "code",
      "execution_count": null,
      "metadata": {
        "colab": {
          "base_uri": "https://localhost:8080/"
        },
        "outputId": "70ec27f3-0c23-4228-a9cd-5d8b39fc27b3",
        "id": "BkIci1kE99rJ"
      },
      "outputs": [
        {
          "output_type": "stream",
          "name": "stdout",
          "text": [
            "Drive already mounted at /content/drive; to attempt to forcibly remount, call drive.mount(\"/content/drive\", force_remount=True).\n"
          ]
        }
      ],
      "source": [
        "from google.colab import drive\n",
        "drive.mount(\"/content/drive\")"
      ]
    },
    {
      "cell_type": "code",
      "execution_count": null,
      "metadata": {
        "id": "vNwsFcWd99rJ"
      },
      "outputs": [],
      "source": [
        "import tensorflow as tf\n",
        "import matplotlib.pyplot as plt\n",
        "import matplotlib.image as mpimg\n",
        "import numpy as np\n",
        "import os\n",
        "from random import shuffle\n",
        "from tensorflow.keras.preprocessing import image\n",
        "from tensorflow.keras.preprocessing.image import ImageDataGenerator"
      ]
    },
    {
      "cell_type": "markdown",
      "source": [
        "##### Data 경로 설정"
      ],
      "metadata": {
        "id": "OpxbCIwO99rK"
      }
    },
    {
      "cell_type": "code",
      "execution_count": null,
      "metadata": {
        "colab": {
          "base_uri": "https://localhost:8080/"
        },
        "id": "SKATfhQF99rK",
        "outputId": "33fc34bc-93ba-4172-eda9-808b4c2ca4d5"
      },
      "outputs": [
        {
          "output_type": "stream",
          "name": "stdout",
          "text": [
            "훈련 이미지 개수 (paper): 650\n",
            "훈련 이미지 개수 (rock): 650\n",
            "훈련 이미지 개수 (scissors): 650\n",
            "테스트 이미지 개수 (paper): 90\n",
            "테스트 이미지 개수 (rock): 90\n",
            "테스트 이미지 개수 (scissors): 90\n"
          ]
        }
      ],
      "source": [
        "# 필요시 경로 수정 필수\n",
        "base_dir = \"/content/drive/MyDrive/Colab Notebooks/myRPS/RPS\"\n",
        "\n",
        "train_dir = os.path.join(base_dir,\"train\")\n",
        "test_dir = os.path.join(base_dir,\"test\")\n",
        "\n",
        "train_paper_dir = os.path.join(train_dir,\"paper\") # 각 650개\n",
        "train_rock_dir = os.path.join(train_dir,\"rock\")\n",
        "train_scissors_dir = os.path.join(train_dir,\"scissors\")\n",
        "\n",
        "test_paper_dir = os.path.join(test_dir,\"paper\") # 각 90개\n",
        "test_rock_dir = os.path.join(test_dir,\"rock\")\n",
        "test_scissors_dir = os.path.join(test_dir,\"scissors\")\n",
        "\n",
        "print(f\"훈련 이미지 개수 (paper): {len(os.listdir(train_paper_dir))}\")\n",
        "print(f\"훈련 이미지 개수 (rock): {len(os.listdir(train_rock_dir))}\")\n",
        "print(f\"훈련 이미지 개수 (scissors): {len(os.listdir(train_scissors_dir))}\")\n",
        "\n",
        "print(f\"테스트 이미지 개수 (paper): {len(os.listdir(test_paper_dir))}\")\n",
        "print(f\"테스트 이미지 개수 (rock): {len(os.listdir(test_rock_dir))}\")\n",
        "print(f\"테스트 이미지 개수 (scissors): {len(os.listdir(test_scissors_dir))}\")"
      ]
    },
    {
      "cell_type": "markdown",
      "source": [
        "#### 3-2. Data 전처리"
      ],
      "metadata": {
        "id": "JdrSFrX2-GcI"
      }
    },
    {
      "cell_type": "code",
      "execution_count": null,
      "metadata": {
        "id": "E-S7bWK7-GcJ"
      },
      "outputs": [],
      "source": [
        "# Data Augmentation 적용\n",
        "train_datagen = ImageDataGenerator(\n",
        "    rotation_range=90,\n",
        "    # brightness_range=(1, 1),\n",
        "    shear_range=0.2,\n",
        "    zoom_range=0.1,\n",
        "    channel_shift_range=0.2,\n",
        "    horizontal_flip=True,\n",
        "    vertical_flip=True,\n",
        "\n",
        "    rescale = 1./255, validation_split=0.3)\n",
        "\n",
        "\n",
        "test_datagen = ImageDataGenerator(rescale = 1./255)"
      ]
    },
    {
      "cell_type": "code",
      "execution_count": null,
      "metadata": {
        "colab": {
          "base_uri": "https://localhost:8080/"
        },
        "outputId": "34c69eea-a9a7-40e3-96c4-9845834c5b8e",
        "id": "x_nBYu0C-GcJ"
      },
      "outputs": [
        {
          "output_type": "stream",
          "name": "stdout",
          "text": [
            "Found 1365 images belonging to 3 classes.\n",
            "Found 585 images belonging to 3 classes.\n",
            "Found 270 images belonging to 3 classes.\n",
            "훈련 이미지 개수: 1365\n",
            "검증 이미지 개수: 585\n",
            "테스트 이미지 개수: 270\n"
          ]
        }
      ],
      "source": [
        "batch_size = 32\n",
        "test_batch_size = batch_size * 2\n",
        "target_size = (224, 224) # input image size\n",
        "\n",
        "train_generator = train_datagen.flow_from_directory(train_dir,\n",
        "                                                    subset='training',  # subset 미설정 시 분리되지 않음\n",
        "                                                    batch_size=batch_size,\n",
        "                                                    color_mode='rgb',\n",
        "                                                    class_mode='categorical',\n",
        "                                                    target_size=target_size)\n",
        "\n",
        "validation_generator = train_datagen.flow_from_directory(train_dir,\n",
        "                                                         subset='validation',\n",
        "                                                              batch_size=batch_size,\n",
        "                                                              color_mode='rgb',\n",
        "                                                              class_mode='categorical',\n",
        "                                                              target_size=target_size)\n",
        "\n",
        "test_generator = test_datagen.flow_from_directory(test_dir,\n",
        "                                                  batch_size=test_batch_size,\n",
        "                                                  color_mode='rgb',\n",
        "                                                  class_mode='categorical',\n",
        "                                                  target_size=target_size)\n",
        "\n",
        "print(f\"훈련 이미지 개수: {train_generator.samples}\")\n",
        "print(f\"검증 이미지 개수: {validation_generator.samples}\")\n",
        "print(f\"테스트 이미지 개수: {test_generator.samples}\")"
      ]
    },
    {
      "cell_type": "code",
      "execution_count": null,
      "metadata": {
        "colab": {
          "base_uri": "https://localhost:8080/"
        },
        "outputId": "c8d6463f-c6c7-4657-c8d6-16536417a50e",
        "id": "eLzOomrl-GcJ"
      },
      "outputs": [
        {
          "output_type": "execute_result",
          "data": {
            "text/plain": [
              "{'paper': 0, 'rock': 1, 'scissors': 2}"
            ]
          },
          "metadata": {},
          "execution_count": 9
        }
      ],
      "source": [
        "# 폴더기준으로 자동으로 클래스 나눈거 확인\n",
        "train_generator.class_indices"
      ]
    },
    {
      "cell_type": "markdown",
      "source": [
        "#### 3-3. 모델 생성"
      ],
      "metadata": {
        "id": "byeg7_7GMnYm"
      }
    },
    {
      "cell_type": "markdown",
      "source": [
        "Base Model로 InceptionV3를 이용하고, 가져온 모델은 학습시키지 않게 한다."
      ],
      "metadata": {
        "id": "QiUfO46nN3Ey"
      }
    },
    {
      "cell_type": "code",
      "source": [
        "base_model_InceptionV3 = tf.keras.applications.InceptionV3(\n",
        "    input_shape=(224, 224, 3),\n",
        "    include_top=False,\n",
        "    weights=\"imagenet\"\n",
        ")\n",
        "\n",
        "base_model_InceptionV3.trainable = False"
      ],
      "metadata": {
        "colab": {
          "base_uri": "https://localhost:8080/"
        },
        "id": "i-SMr1DQM38O",
        "outputId": "8e8d3298-95a6-41a4-8751-403f7c3099bb"
      },
      "execution_count": null,
      "outputs": [
        {
          "output_type": "stream",
          "name": "stdout",
          "text": [
            "Downloading data from https://storage.googleapis.com/tensorflow/keras-applications/inception_v3/inception_v3_weights_tf_dim_ordering_tf_kernels_notop.h5\n",
            "87910968/87910968 [==============================] - 0s 0us/step\n"
          ]
        }
      ]
    },
    {
      "cell_type": "code",
      "source": [
        "model = tf.keras.models.Sequential([\n",
        "    base_model_InceptionV3,\n",
        "    tf.keras.layers.MaxPooling2D(),\n",
        "    tf.keras.layers.Flatten(),\n",
        "    tf.keras.layers.Dense(64, activation='relu'),\n",
        "    tf.keras.layers.Dense(16, activation='relu'),\n",
        "    tf.keras.layers.Dense(3, activation='softmax')\n",
        "])"
      ],
      "metadata": {
        "id": "1F0-VYVIMrTC"
      },
      "execution_count": null,
      "outputs": []
    },
    {
      "cell_type": "code",
      "source": [
        "model.summary()"
      ],
      "metadata": {
        "colab": {
          "base_uri": "https://localhost:8080/"
        },
        "id": "rXByQrwJA8Cx",
        "outputId": "83aad800-082f-4c8f-c0e8-4f66a7385714"
      },
      "execution_count": null,
      "outputs": [
        {
          "output_type": "stream",
          "name": "stdout",
          "text": [
            "Model: \"sequential\"\n",
            "_________________________________________________________________\n",
            " Layer (type)                Output Shape              Param #   \n",
            "=================================================================\n",
            " inception_v3 (Functional)   (None, 5, 5, 2048)        21802784  \n",
            "                                                                 \n",
            " max_pooling2d_4 (MaxPoolin  (None, 2, 2, 2048)        0         \n",
            " g2D)                                                            \n",
            "                                                                 \n",
            " flatten (Flatten)           (None, 8192)              0         \n",
            "                                                                 \n",
            " dense (Dense)               (None, 64)                524352    \n",
            "                                                                 \n",
            " dense_1 (Dense)             (None, 16)                1040      \n",
            "                                                                 \n",
            " dense_2 (Dense)             (None, 3)                 51        \n",
            "                                                                 \n",
            "=================================================================\n",
            "Total params: 22328227 (85.18 MB)\n",
            "Trainable params: 525443 (2.00 MB)\n",
            "Non-trainable params: 21802784 (83.17 MB)\n",
            "_________________________________________________________________\n"
          ]
        }
      ]
    },
    {
      "cell_type": "code",
      "source": [
        "model.compile(optimizer=tf.keras.optimizers.Adam(learning_rate = 0.001),\n",
        "              loss='categorical_crossentropy',\n",
        "              metrics=['accuracy'])"
      ],
      "metadata": {
        "id": "tLxq4hI6Bp24"
      },
      "execution_count": null,
      "outputs": []
    },
    {
      "cell_type": "code",
      "source": [
        "history = model.fit(\n",
        "    train_generator,\n",
        "    validation_data=validation_generator,\n",
        "    steps_per_epoch=10,\n",
        "    epochs=100,\n",
        "    validation_steps=10,\n",
        "    verbose=2)"
      ],
      "metadata": {
        "id": "axppClvxCC-L",
        "colab": {
          "base_uri": "https://localhost:8080/"
        },
        "outputId": "9740a4de-e6d0-4b24-c439-d4ebdbf3771d"
      },
      "execution_count": null,
      "outputs": [
        {
          "output_type": "stream",
          "name": "stdout",
          "text": [
            "Epoch 1/100\n",
            "10/10 - 167s - loss: 3.4807 - accuracy: 0.4187 - val_loss: 0.7969 - val_accuracy: 0.6469 - 167s/epoch - 17s/step\n",
            "Epoch 2/100\n",
            "10/10 - 95s - loss: 0.8355 - accuracy: 0.6438 - val_loss: 0.7434 - val_accuracy: 0.6781 - 95s/epoch - 10s/step\n",
            "Epoch 3/100\n",
            "10/10 - 59s - loss: 0.5947 - accuracy: 0.7812 - val_loss: 0.5645 - val_accuracy: 0.8062 - 59s/epoch - 6s/step\n",
            "Epoch 4/100\n",
            "10/10 - 43s - loss: 0.4598 - accuracy: 0.8313 - val_loss: 0.5043 - val_accuracy: 0.8094 - 43s/epoch - 4s/step\n",
            "Epoch 5/100\n",
            "10/10 - 30s - loss: 0.4372 - accuracy: 0.8531 - val_loss: 0.4436 - val_accuracy: 0.8625 - 30s/epoch - 3s/step\n",
            "Epoch 6/100\n",
            "10/10 - 26s - loss: 0.3561 - accuracy: 0.8813 - val_loss: 0.4089 - val_accuracy: 0.8656 - 26s/epoch - 3s/step\n",
            "Epoch 7/100\n",
            "10/10 - 22s - loss: 0.3238 - accuracy: 0.8781 - val_loss: 0.3914 - val_accuracy: 0.8500 - 22s/epoch - 2s/step\n",
            "Epoch 8/100\n",
            "10/10 - 22s - loss: 0.3200 - accuracy: 0.8938 - val_loss: 0.3321 - val_accuracy: 0.8938 - 22s/epoch - 2s/step\n",
            "Epoch 9/100\n",
            "10/10 - 22s - loss: 0.2499 - accuracy: 0.9125 - val_loss: 0.3476 - val_accuracy: 0.8781 - 22s/epoch - 2s/step\n",
            "Epoch 10/100\n",
            "10/10 - 18s - loss: 0.2593 - accuracy: 0.9062 - val_loss: 0.2662 - val_accuracy: 0.9062 - 18s/epoch - 2s/step\n",
            "Epoch 11/100\n",
            "10/10 - 13s - loss: 0.3191 - accuracy: 0.8781 - val_loss: 0.5314 - val_accuracy: 0.8125 - 13s/epoch - 1s/step\n",
            "Epoch 12/100\n",
            "10/10 - 16s - loss: 0.3731 - accuracy: 0.8531 - val_loss: 0.5958 - val_accuracy: 0.8031 - 16s/epoch - 2s/step\n",
            "Epoch 13/100\n",
            "10/10 - 16s - loss: 0.2968 - accuracy: 0.8875 - val_loss: 0.3172 - val_accuracy: 0.8719 - 16s/epoch - 2s/step\n",
            "Epoch 14/100\n",
            "10/10 - 12s - loss: 0.2613 - accuracy: 0.9062 - val_loss: 0.2467 - val_accuracy: 0.9125 - 12s/epoch - 1s/step\n",
            "Epoch 15/100\n",
            "10/10 - 15s - loss: 0.2655 - accuracy: 0.9029 - val_loss: 0.3268 - val_accuracy: 0.8906 - 15s/epoch - 2s/step\n",
            "Epoch 16/100\n",
            "10/10 - 16s - loss: 0.2358 - accuracy: 0.9219 - val_loss: 0.2451 - val_accuracy: 0.9187 - 16s/epoch - 2s/step\n",
            "Epoch 17/100\n",
            "10/10 - 16s - loss: 0.2017 - accuracy: 0.9385 - val_loss: 0.2532 - val_accuracy: 0.9062 - 16s/epoch - 2s/step\n",
            "Epoch 18/100\n",
            "10/10 - 13s - loss: 0.1848 - accuracy: 0.9375 - val_loss: 0.2369 - val_accuracy: 0.9156 - 13s/epoch - 1s/step\n",
            "Epoch 19/100\n",
            "10/10 - 16s - loss: 0.1608 - accuracy: 0.9156 - val_loss: 0.2583 - val_accuracy: 0.9156 - 16s/epoch - 2s/step\n",
            "Epoch 20/100\n",
            "10/10 - 16s - loss: 0.3389 - accuracy: 0.8781 - val_loss: 0.2459 - val_accuracy: 0.9031 - 16s/epoch - 2s/step\n",
            "Epoch 21/100\n",
            "10/10 - 13s - loss: 0.2096 - accuracy: 0.9219 - val_loss: 0.3537 - val_accuracy: 0.8594 - 13s/epoch - 1s/step\n",
            "Epoch 22/100\n",
            "10/10 - 12s - loss: 0.3119 - accuracy: 0.8835 - val_loss: 0.4169 - val_accuracy: 0.8188 - 12s/epoch - 1s/step\n",
            "Epoch 23/100\n",
            "10/10 - 13s - loss: 0.2845 - accuracy: 0.8906 - val_loss: 0.3248 - val_accuracy: 0.8781 - 13s/epoch - 1s/step\n",
            "Epoch 24/100\n",
            "10/10 - 16s - loss: 0.2575 - accuracy: 0.9094 - val_loss: 0.2478 - val_accuracy: 0.9187 - 16s/epoch - 2s/step\n",
            "Epoch 25/100\n",
            "10/10 - 16s - loss: 0.2092 - accuracy: 0.9125 - val_loss: 0.2321 - val_accuracy: 0.9187 - 16s/epoch - 2s/step\n",
            "Epoch 26/100\n",
            "10/10 - 16s - loss: 0.1927 - accuracy: 0.9312 - val_loss: 0.2653 - val_accuracy: 0.9000 - 16s/epoch - 2s/step\n",
            "Epoch 27/100\n",
            "10/10 - 12s - loss: 0.2406 - accuracy: 0.9094 - val_loss: 0.2644 - val_accuracy: 0.9156 - 12s/epoch - 1s/step\n",
            "Epoch 28/100\n",
            "10/10 - 13s - loss: 0.1837 - accuracy: 0.9469 - val_loss: 0.2549 - val_accuracy: 0.9094 - 13s/epoch - 1s/step\n",
            "Epoch 29/100\n",
            "10/10 - 15s - loss: 0.1981 - accuracy: 0.9312 - val_loss: 0.2753 - val_accuracy: 0.9094 - 15s/epoch - 1s/step\n",
            "Epoch 30/100\n",
            "10/10 - 16s - loss: 0.1551 - accuracy: 0.9500 - val_loss: 0.2419 - val_accuracy: 0.9281 - 16s/epoch - 2s/step\n",
            "Epoch 31/100\n",
            "10/10 - 15s - loss: 0.1258 - accuracy: 0.9579 - val_loss: 0.2119 - val_accuracy: 0.9031 - 15s/epoch - 2s/step\n",
            "Epoch 32/100\n",
            "10/10 - 13s - loss: 0.2273 - accuracy: 0.8969 - val_loss: 0.2586 - val_accuracy: 0.9000 - 13s/epoch - 1s/step\n",
            "Epoch 33/100\n",
            "10/10 - 13s - loss: 0.1771 - accuracy: 0.9320 - val_loss: 0.2053 - val_accuracy: 0.9187 - 13s/epoch - 1s/step\n",
            "Epoch 34/100\n",
            "10/10 - 11s - loss: 0.1588 - accuracy: 0.9482 - val_loss: 0.2590 - val_accuracy: 0.9156 - 11s/epoch - 1s/step\n",
            "Epoch 35/100\n",
            "10/10 - 16s - loss: 0.1615 - accuracy: 0.9320 - val_loss: 0.4503 - val_accuracy: 0.8469 - 16s/epoch - 2s/step\n",
            "Epoch 36/100\n",
            "10/10 - 13s - loss: 0.1966 - accuracy: 0.9406 - val_loss: 0.1916 - val_accuracy: 0.9219 - 13s/epoch - 1s/step\n",
            "Epoch 37/100\n",
            "10/10 - 15s - loss: 0.1581 - accuracy: 0.9500 - val_loss: 0.2022 - val_accuracy: 0.9281 - 15s/epoch - 2s/step\n",
            "Epoch 38/100\n",
            "10/10 - 12s - loss: 0.1621 - accuracy: 0.9320 - val_loss: 0.3905 - val_accuracy: 0.8625 - 12s/epoch - 1s/step\n",
            "Epoch 39/100\n",
            "10/10 - 16s - loss: 0.2265 - accuracy: 0.9219 - val_loss: 0.2719 - val_accuracy: 0.9219 - 16s/epoch - 2s/step\n",
            "Epoch 40/100\n",
            "10/10 - 13s - loss: 0.2817 - accuracy: 0.9031 - val_loss: 0.3373 - val_accuracy: 0.8750 - 13s/epoch - 1s/step\n",
            "Epoch 41/100\n",
            "10/10 - 16s - loss: 0.2143 - accuracy: 0.9126 - val_loss: 0.3188 - val_accuracy: 0.9062 - 16s/epoch - 2s/step\n",
            "Epoch 42/100\n",
            "10/10 - 15s - loss: 0.2097 - accuracy: 0.9344 - val_loss: 0.2643 - val_accuracy: 0.8906 - 15s/epoch - 2s/step\n",
            "Epoch 43/100\n",
            "10/10 - 13s - loss: 0.1454 - accuracy: 0.9353 - val_loss: 0.2768 - val_accuracy: 0.9031 - 13s/epoch - 1s/step\n",
            "Epoch 44/100\n",
            "10/10 - 13s - loss: 0.1500 - accuracy: 0.9385 - val_loss: 0.1958 - val_accuracy: 0.9281 - 13s/epoch - 1s/step\n",
            "Epoch 45/100\n",
            "10/10 - 16s - loss: 0.1201 - accuracy: 0.9625 - val_loss: 0.2417 - val_accuracy: 0.9125 - 16s/epoch - 2s/step\n",
            "Epoch 46/100\n",
            "10/10 - 16s - loss: 0.1705 - accuracy: 0.9438 - val_loss: 0.2224 - val_accuracy: 0.9187 - 16s/epoch - 2s/step\n",
            "Epoch 47/100\n",
            "10/10 - 12s - loss: 0.1971 - accuracy: 0.9125 - val_loss: 0.2336 - val_accuracy: 0.9125 - 12s/epoch - 1s/step\n",
            "Epoch 48/100\n",
            "10/10 - 16s - loss: 0.1369 - accuracy: 0.9563 - val_loss: 0.2588 - val_accuracy: 0.9125 - 16s/epoch - 2s/step\n",
            "Epoch 49/100\n",
            "10/10 - 13s - loss: 0.1447 - accuracy: 0.9469 - val_loss: 0.3691 - val_accuracy: 0.8750 - 13s/epoch - 1s/step\n",
            "Epoch 50/100\n",
            "10/10 - 13s - loss: 0.1692 - accuracy: 0.9281 - val_loss: 0.2551 - val_accuracy: 0.8875 - 13s/epoch - 1s/step\n",
            "Epoch 51/100\n",
            "10/10 - 16s - loss: 0.1391 - accuracy: 0.9469 - val_loss: 0.2902 - val_accuracy: 0.8969 - 16s/epoch - 2s/step\n",
            "Epoch 52/100\n",
            "10/10 - 13s - loss: 0.1418 - accuracy: 0.9344 - val_loss: 0.2679 - val_accuracy: 0.9031 - 13s/epoch - 1s/step\n",
            "Epoch 53/100\n",
            "10/10 - 13s - loss: 0.1122 - accuracy: 0.9594 - val_loss: 0.2299 - val_accuracy: 0.9250 - 13s/epoch - 1s/step\n",
            "Epoch 54/100\n",
            "10/10 - 16s - loss: 0.1588 - accuracy: 0.9406 - val_loss: 0.2516 - val_accuracy: 0.9000 - 16s/epoch - 2s/step\n",
            "Epoch 55/100\n",
            "10/10 - 13s - loss: 0.1667 - accuracy: 0.9344 - val_loss: 0.2387 - val_accuracy: 0.9219 - 13s/epoch - 1s/step\n",
            "Epoch 56/100\n",
            "10/10 - 15s - loss: 0.1523 - accuracy: 0.9320 - val_loss: 0.2940 - val_accuracy: 0.8844 - 15s/epoch - 1s/step\n",
            "Epoch 57/100\n",
            "10/10 - 13s - loss: 0.1493 - accuracy: 0.9417 - val_loss: 0.1707 - val_accuracy: 0.9344 - 13s/epoch - 1s/step\n",
            "Epoch 58/100\n",
            "10/10 - 13s - loss: 0.1334 - accuracy: 0.9500 - val_loss: 0.1814 - val_accuracy: 0.9375 - 13s/epoch - 1s/step\n",
            "Epoch 59/100\n",
            "10/10 - 16s - loss: 0.1574 - accuracy: 0.9344 - val_loss: 0.2263 - val_accuracy: 0.9125 - 16s/epoch - 2s/step\n",
            "Epoch 60/100\n",
            "10/10 - 16s - loss: 0.1847 - accuracy: 0.9219 - val_loss: 0.2571 - val_accuracy: 0.8875 - 16s/epoch - 2s/step\n",
            "Epoch 61/100\n",
            "10/10 - 15s - loss: 0.1654 - accuracy: 0.9344 - val_loss: 0.2723 - val_accuracy: 0.8906 - 15s/epoch - 2s/step\n",
            "Epoch 62/100\n",
            "10/10 - 12s - loss: 0.0827 - accuracy: 0.9656 - val_loss: 0.1407 - val_accuracy: 0.9469 - 12s/epoch - 1s/step\n",
            "Epoch 63/100\n",
            "10/10 - 16s - loss: 0.1280 - accuracy: 0.9594 - val_loss: 0.2291 - val_accuracy: 0.9250 - 16s/epoch - 2s/step\n",
            "Epoch 64/100\n",
            "10/10 - 15s - loss: 0.0709 - accuracy: 0.9773 - val_loss: 0.2853 - val_accuracy: 0.8938 - 15s/epoch - 1s/step\n",
            "Epoch 65/100\n",
            "10/10 - 13s - loss: 0.1248 - accuracy: 0.9563 - val_loss: 0.2889 - val_accuracy: 0.8969 - 13s/epoch - 1s/step\n",
            "Epoch 66/100\n",
            "10/10 - 12s - loss: 0.1589 - accuracy: 0.9281 - val_loss: 0.1541 - val_accuracy: 0.9469 - 12s/epoch - 1s/step\n",
            "Epoch 67/100\n",
            "10/10 - 13s - loss: 0.1284 - accuracy: 0.9500 - val_loss: 0.1966 - val_accuracy: 0.9156 - 13s/epoch - 1s/step\n",
            "Epoch 68/100\n",
            "10/10 - 15s - loss: 0.1178 - accuracy: 0.9563 - val_loss: 0.1962 - val_accuracy: 0.8969 - 15s/epoch - 1s/step\n",
            "Epoch 69/100\n",
            "10/10 - 11s - loss: 0.1135 - accuracy: 0.9531 - val_loss: 0.2088 - val_accuracy: 0.9281 - 11s/epoch - 1s/step\n",
            "Epoch 70/100\n",
            "10/10 - 12s - loss: 0.1726 - accuracy: 0.9256 - val_loss: 0.2841 - val_accuracy: 0.9156 - 12s/epoch - 1s/step\n",
            "Epoch 71/100\n",
            "10/10 - 16s - loss: 0.1504 - accuracy: 0.9344 - val_loss: 0.2021 - val_accuracy: 0.9125 - 16s/epoch - 2s/step\n",
            "Epoch 72/100\n",
            "10/10 - 12s - loss: 0.1570 - accuracy: 0.9438 - val_loss: 0.3474 - val_accuracy: 0.8719 - 12s/epoch - 1s/step\n",
            "Epoch 73/100\n",
            "10/10 - 13s - loss: 0.3340 - accuracy: 0.8867 - val_loss: 0.3760 - val_accuracy: 0.8750 - 13s/epoch - 1s/step\n",
            "Epoch 74/100\n",
            "10/10 - 13s - loss: 0.2288 - accuracy: 0.9159 - val_loss: 0.2638 - val_accuracy: 0.9125 - 13s/epoch - 1s/step\n",
            "Epoch 75/100\n",
            "10/10 - 12s - loss: 0.1727 - accuracy: 0.9450 - val_loss: 0.1910 - val_accuracy: 0.9312 - 12s/epoch - 1s/step\n",
            "Epoch 76/100\n",
            "10/10 - 12s - loss: 0.1807 - accuracy: 0.9375 - val_loss: 0.2570 - val_accuracy: 0.9281 - 12s/epoch - 1s/step\n",
            "Epoch 77/100\n",
            "10/10 - 13s - loss: 0.1701 - accuracy: 0.9281 - val_loss: 0.2834 - val_accuracy: 0.8906 - 13s/epoch - 1s/step\n",
            "Epoch 78/100\n",
            "10/10 - 12s - loss: 0.1161 - accuracy: 0.9531 - val_loss: 0.1526 - val_accuracy: 0.9438 - 12s/epoch - 1s/step\n",
            "Epoch 79/100\n",
            "10/10 - 12s - loss: 0.1626 - accuracy: 0.9385 - val_loss: 0.2653 - val_accuracy: 0.9062 - 12s/epoch - 1s/step\n",
            "Epoch 80/100\n",
            "10/10 - 13s - loss: 0.1843 - accuracy: 0.9469 - val_loss: 0.2579 - val_accuracy: 0.8938 - 13s/epoch - 1s/step\n",
            "Epoch 81/100\n",
            "10/10 - 15s - loss: 0.1463 - accuracy: 0.9469 - val_loss: 0.1806 - val_accuracy: 0.9250 - 15s/epoch - 2s/step\n",
            "Epoch 82/100\n",
            "10/10 - 15s - loss: 0.1147 - accuracy: 0.9450 - val_loss: 0.2527 - val_accuracy: 0.9187 - 15s/epoch - 1s/step\n",
            "Epoch 83/100\n",
            "10/10 - 16s - loss: 0.2535 - accuracy: 0.9000 - val_loss: 0.4450 - val_accuracy: 0.8500 - 16s/epoch - 2s/step\n",
            "Epoch 84/100\n",
            "10/10 - 12s - loss: 0.2223 - accuracy: 0.9031 - val_loss: 0.2308 - val_accuracy: 0.9125 - 12s/epoch - 1s/step\n",
            "Epoch 85/100\n",
            "10/10 - 16s - loss: 0.1538 - accuracy: 0.9438 - val_loss: 0.3026 - val_accuracy: 0.8938 - 16s/epoch - 2s/step\n",
            "Epoch 86/100\n",
            "10/10 - 12s - loss: 0.1606 - accuracy: 0.9469 - val_loss: 0.3053 - val_accuracy: 0.9094 - 12s/epoch - 1s/step\n",
            "Epoch 87/100\n",
            "10/10 - 12s - loss: 0.1485 - accuracy: 0.9353 - val_loss: 0.1468 - val_accuracy: 0.9625 - 12s/epoch - 1s/step\n",
            "Epoch 88/100\n",
            "10/10 - 13s - loss: 0.1202 - accuracy: 0.9563 - val_loss: 0.3795 - val_accuracy: 0.8750 - 13s/epoch - 1s/step\n",
            "Epoch 89/100\n",
            "10/10 - 16s - loss: 0.1634 - accuracy: 0.9406 - val_loss: 0.2622 - val_accuracy: 0.9187 - 16s/epoch - 2s/step\n",
            "Epoch 90/100\n",
            "10/10 - 15s - loss: 0.1059 - accuracy: 0.9579 - val_loss: 0.2993 - val_accuracy: 0.9062 - 15s/epoch - 1s/step\n",
            "Epoch 91/100\n",
            "10/10 - 14s - loss: 0.1805 - accuracy: 0.9406 - val_loss: 0.2719 - val_accuracy: 0.9219 - 14s/epoch - 1s/step\n",
            "Epoch 92/100\n",
            "10/10 - 15s - loss: 0.1137 - accuracy: 0.9594 - val_loss: 0.2694 - val_accuracy: 0.9125 - 15s/epoch - 2s/step\n",
            "Epoch 93/100\n",
            "10/10 - 16s - loss: 0.1243 - accuracy: 0.9469 - val_loss: 0.1839 - val_accuracy: 0.9344 - 16s/epoch - 2s/step\n",
            "Epoch 94/100\n",
            "10/10 - 15s - loss: 0.1474 - accuracy: 0.9531 - val_loss: 0.2436 - val_accuracy: 0.9250 - 15s/epoch - 1s/step\n",
            "Epoch 95/100\n",
            "10/10 - 13s - loss: 0.1337 - accuracy: 0.9469 - val_loss: 0.2810 - val_accuracy: 0.9094 - 13s/epoch - 1s/step\n",
            "Epoch 96/100\n",
            "10/10 - 16s - loss: 0.1085 - accuracy: 0.9515 - val_loss: 0.2460 - val_accuracy: 0.9250 - 16s/epoch - 2s/step\n",
            "Epoch 97/100\n",
            "10/10 - 13s - loss: 0.1255 - accuracy: 0.9688 - val_loss: 0.2276 - val_accuracy: 0.9156 - 13s/epoch - 1s/step\n",
            "Epoch 98/100\n",
            "10/10 - 12s - loss: 0.0908 - accuracy: 0.9741 - val_loss: 0.2172 - val_accuracy: 0.9344 - 12s/epoch - 1s/step\n",
            "Epoch 99/100\n",
            "10/10 - 12s - loss: 0.0906 - accuracy: 0.9688 - val_loss: 0.2188 - val_accuracy: 0.9250 - 12s/epoch - 1s/step\n",
            "Epoch 100/100\n",
            "10/10 - 17s - loss: 0.1571 - accuracy: 0.9625 - val_loss: 0.1873 - val_accuracy: 0.9375 - 17s/epoch - 2s/step\n"
          ]
        }
      ]
    },
    {
      "cell_type": "code",
      "source": [
        "model.evaluate(train_generator)"
      ],
      "metadata": {
        "colab": {
          "base_uri": "https://localhost:8080/"
        },
        "id": "_COsFYm1H3eb",
        "outputId": "2a7f9b2f-0778-48b8-fcc6-859dc532caa0"
      },
      "execution_count": null,
      "outputs": [
        {
          "output_type": "stream",
          "name": "stdout",
          "text": [
            "43/43 [==============================] - 23s 527ms/step - loss: 0.1040 - accuracy: 0.9575\n"
          ]
        },
        {
          "output_type": "execute_result",
          "data": {
            "text/plain": [
              "[0.10402277857065201, 0.9575091600418091]"
            ]
          },
          "metadata": {},
          "execution_count": 13
        }
      ]
    },
    {
      "cell_type": "code",
      "source": [
        "model.evaluate(validation_generator)"
      ],
      "metadata": {
        "colab": {
          "base_uri": "https://localhost:8080/"
        },
        "id": "iUizJHg8IBZx",
        "outputId": "f6ccd1d4-12b7-4745-fd2e-59291f2ee631"
      },
      "execution_count": null,
      "outputs": [
        {
          "output_type": "stream",
          "name": "stdout",
          "text": [
            "19/19 [==============================] - 12s 627ms/step - loss: 0.2401 - accuracy: 0.9179\n"
          ]
        },
        {
          "output_type": "execute_result",
          "data": {
            "text/plain": [
              "[0.24012596905231476, 0.9179487228393555]"
            ]
          },
          "metadata": {},
          "execution_count": 14
        }
      ]
    },
    {
      "cell_type": "code",
      "source": [
        "acc = history.history['accuracy']\n",
        "val_acc = history.history['val_accuracy']\n",
        "loss = history.history['loss']\n",
        "val_loss = history.history['val_loss']\n",
        "\n",
        "epochs = range(len(acc))\n",
        "\n",
        "plt.plot(epochs, acc, label='Training accuracy')\n",
        "plt.plot(epochs, val_acc, label='Validation accuracy')\n",
        "plt.title('Training and validation accuracy')\n",
        "plt.legend()\n",
        "\n",
        "plt.figure()\n",
        "\n",
        "plt.plot(epochs, loss, label='Training loss')\n",
        "plt.plot(epochs, val_loss, label='Validation loss')\n",
        "plt.title('Training and validation loss')\n",
        "plt.legend()\n",
        "\n",
        "plt.show()"
      ],
      "metadata": {
        "colab": {
          "base_uri": "https://localhost:8080/",
          "height": 887
        },
        "id": "gonw4vC4Idr6",
        "outputId": "9ce09377-c57d-4aa4-f6d1-9ffe85f032b6"
      },
      "execution_count": null,
      "outputs": [
        {
          "output_type": "display_data",
          "data": {
            "text/plain": [
              "<Figure size 640x480 with 1 Axes>"
            ],
            "image/png": "[encoded data removed]"
          },
          "metadata": {}
        },
        {
          "output_type": "display_data",
          "data": {
            "text/plain": [
              "<Figure size 640x480 with 1 Axes>"
            ],
            "image/png": "[encoded data removed]"
          },
          "metadata": {}
        }
      ]
    },
    {
      "cell_type": "markdown",
      "source": [
        "충분히 유의미한 결과를 도출했다고 판단하여 하이퍼파라미터 조정을 시도하였다."
      ],
      "metadata": {
        "id": "sGaF6EmlUPiG"
      }
    },
    {
      "cell_type": "code",
      "source": [
        "import os, sys\n",
        "from google.colab import drive\n",
        "drive.mount('/content/drive')\n",
        "\n",
        "my_path = '/content/notebooks'\n",
        "# Colab Notebooks 안에 my_env 폴더에 패키지 저장\n",
        "if os.path.islink(my_path):\n",
        "  os.unlink(my_path)\n",
        "os.symlink('/content/drive/My Drive/Colab Notebooks/my_env', my_path)\n",
        "sys.path.insert(0, my_path)"
      ],
      "metadata": {
        "colab": {
          "base_uri": "https://localhost:8080/"
        },
        "id": "yABSoJ2wYh_b",
        "outputId": "021124bc-22f6-4c4a-85de-34094cbfdcc0"
      },
      "execution_count": null,
      "outputs": [
        {
          "output_type": "stream",
          "name": "stdout",
          "text": [
            "Drive already mounted at /content/drive; to attempt to forcibly remount, call drive.mount(\"/content/drive\", force_remount=True).\n"
          ]
        }
      ]
    },
    {
      "cell_type": "code",
      "source": [
        "!pip install --target=$my_path optuna"
      ],
      "metadata": {
        "colab": {
          "base_uri": "https://localhost:8080/"
        },
        "id": "rinFfrW8YnA6",
        "outputId": "4199c0ba-46d5-4884-e83c-e3e649e6bf2e"
      },
      "execution_count": null,
      "outputs": [
        {
          "output_type": "stream",
          "name": "stdout",
          "text": [
            "Collecting optuna\n",
            "  Using cached optuna-3.6.1-py3-none-any.whl (380 kB)\n",
            "Collecting alembic>=1.5.0 (from optuna)\n",
            "  Using cached alembic-1.13.1-py3-none-any.whl (233 kB)\n",
            "Collecting colorlog (from optuna)\n",
            "  Using cached colorlog-6.8.2-py3-none-any.whl (11 kB)\n",
            "Collecting numpy (from optuna)\n",
            "  Using cached numpy-1.26.4-cp310-cp310-manylinux_2_17_x86_64.manylinux2014_x86_64.whl (18.2 MB)\n",
            "Collecting packaging>=20.0 (from optuna)\n",
            "  Using cached packaging-24.1-py3-none-any.whl (53 kB)\n",
            "Collecting sqlalchemy>=1.3.0 (from optuna)\n",
            "  Using cached SQLAlchemy-2.0.30-cp310-cp310-manylinux_2_17_x86_64.manylinux2014_x86_64.whl (3.1 MB)\n",
            "Collecting tqdm (from optuna)\n",
            "  Using cached tqdm-4.66.4-py3-none-any.whl (78 kB)\n",
            "Collecting PyYAML (from optuna)\n",
            "  Using cached PyYAML-6.0.1-cp310-cp310-manylinux_2_17_x86_64.manylinux2014_x86_64.whl (705 kB)\n",
            "Collecting Mako (from alembic>=1.5.0->optuna)\n",
            "  Using cached Mako-1.3.5-py3-none-any.whl (78 kB)\n",
            "Collecting typing-extensions>=4 (from alembic>=1.5.0->optuna)\n",
            "  Using cached typing_extensions-4.12.2-py3-none-any.whl (37 kB)\n",
            "Collecting greenlet!=0.4.17 (from sqlalchemy>=1.3.0->optuna)\n",
            "  Using cached greenlet-3.0.3-cp310-cp310-manylinux_2_24_x86_64.manylinux_2_28_x86_64.whl (616 kB)\n",
            "Collecting MarkupSafe>=0.9.2 (from Mako->alembic>=1.5.0->optuna)\n",
            "  Using cached MarkupSafe-2.1.5-cp310-cp310-manylinux_2_17_x86_64.manylinux2014_x86_64.whl (25 kB)\n",
            "Installing collected packages: typing-extensions, tqdm, PyYAML, packaging, numpy, MarkupSafe, greenlet, colorlog, sqlalchemy, Mako, alembic, optuna\n",
            "\u001b[31mERROR: pip's dependency resolver does not currently take into account all the packages that are installed. This behaviour is the source of the following dependency conflicts.\n",
            "torch 2.3.0+cu121 requires nvidia-cublas-cu12==12.1.3.1; platform_system == \"Linux\" and platform_machine == \"x86_64\", which is not installed.\n",
            "torch 2.3.0+cu121 requires nvidia-cuda-cupti-cu12==12.1.105; platform_system == \"Linux\" and platform_machine == \"x86_64\", which is not installed.\n",
            "torch 2.3.0+cu121 requires nvidia-cuda-nvrtc-cu12==12.1.105; platform_system == \"Linux\" and platform_machine == \"x86_64\", which is not installed.\n",
            "torch 2.3.0+cu121 requires nvidia-cuda-runtime-cu12==12.1.105; platform_system == \"Linux\" and platform_machine == \"x86_64\", which is not installed.\n",
            "torch 2.3.0+cu121 requires nvidia-cudnn-cu12==8.9.2.26; platform_system == \"Linux\" and platform_machine == \"x86_64\", which is not installed.\n",
            "torch 2.3.0+cu121 requires nvidia-cufft-cu12==11.0.2.54; platform_system == \"Linux\" and platform_machine == \"x86_64\", which is not installed.\n",
            "torch 2.3.0+cu121 requires nvidia-curand-cu12==10.3.2.106; platform_system == \"Linux\" and platform_machine == \"x86_64\", which is not installed.\n",
            "torch 2.3.0+cu121 requires nvidia-cusolver-cu12==11.4.5.107; platform_system == \"Linux\" and platform_machine == \"x86_64\", which is not installed.\n",
            "torch 2.3.0+cu121 requires nvidia-cusparse-cu12==12.1.0.106; platform_system == \"Linux\" and platform_machine == \"x86_64\", which is not installed.\n",
            "torch 2.3.0+cu121 requires nvidia-nccl-cu12==2.20.5; platform_system == \"Linux\" and platform_machine == \"x86_64\", which is not installed.\n",
            "torch 2.3.0+cu121 requires nvidia-nvtx-cu12==12.1.105; platform_system == \"Linux\" and platform_machine == \"x86_64\", which is not installed.\u001b[0m\u001b[31m\n",
            "\u001b[0mSuccessfully installed Mako-1.3.5 MarkupSafe-2.1.5 PyYAML-6.0.1 alembic-1.13.1 colorlog-6.8.2 greenlet-3.0.3 numpy-1.26.4 optuna-3.6.1 packaging-24.1 sqlalchemy-2.0.30 tqdm-4.66.4 typing-extensions-4.12.2\n",
            "\u001b[33mWARNING: Target directory /content/notebooks/alembic already exists. Specify --upgrade to force replacement.\u001b[0m\u001b[33m\n",
            "\u001b[0m\u001b[33mWARNING: Target directory /content/notebooks/greenlet-3.0.3.dist-info already exists. Specify --upgrade to force replacement.\u001b[0m\u001b[33m\n",
            "\u001b[0m\u001b[33mWARNING: Target directory /content/notebooks/markupsafe already exists. Specify --upgrade to force replacement.\u001b[0m\u001b[33m\n",
            "\u001b[0m\u001b[33mWARNING: Target directory /content/notebooks/colorlog-6.8.2.dist-info already exists. Specify --upgrade to force replacement.\u001b[0m\u001b[33m\n",
            "\u001b[0m\u001b[33mWARNING: Target directory /content/notebooks/__pycache__ already exists. Specify --upgrade to force replacement.\u001b[0m\u001b[33m\n",
            "\u001b[0m\u001b[33mWARNING: Target directory /content/notebooks/Mako-1.3.5.dist-info already exists. Specify --upgrade to force replacement.\u001b[0m\u001b[33m\n",
            "\u001b[0m\u001b[33mWARNING: Target directory /content/notebooks/packaging-24.1.dist-info already exists. Specify --upgrade to force replacement.\u001b[0m\u001b[33m\n",
            "\u001b[0m\u001b[33mWARNING: Target directory /content/notebooks/tqdm-4.66.4.dist-info already exists. Specify --upgrade to force replacement.\u001b[0m\u001b[33m\n",
            "\u001b[0m\u001b[33mWARNING: Target directory /content/notebooks/MarkupSafe-2.1.5.dist-info already exists. Specify --upgrade to force replacement.\u001b[0m\u001b[33m\n",
            "\u001b[0m\u001b[33mWARNING: Target directory /content/notebooks/typing_extensions-4.12.2.dist-info already exists. Specify --upgrade to force replacement.\u001b[0m\u001b[33m\n",
            "\u001b[0m\u001b[33mWARNING: Target directory /content/notebooks/packaging already exists. Specify --upgrade to force replacement.\u001b[0m\u001b[33m\n",
            "\u001b[0m\u001b[33mWARNING: Target directory /content/notebooks/sqlalchemy already exists. Specify --upgrade to force replacement.\u001b[0m\u001b[33m\n",
            "\u001b[0m\u001b[33mWARNING: Target directory /content/notebooks/numpy-1.26.4.dist-info already exists. Specify --upgrade to force replacement.\u001b[0m\u001b[33m\n",
            "\u001b[0m\u001b[33mWARNING: Target directory /content/notebooks/PyYAML-6.0.1.dist-info already exists. Specify --upgrade to force replacement.\u001b[0m\u001b[33m\n",
            "\u001b[0m\u001b[33mWARNING: Target directory /content/notebooks/colorlog already exists. Specify --upgrade to force replacement.\u001b[0m\u001b[33m\n",
            "\u001b[0m\u001b[33mWARNING: Target directory /content/notebooks/SQLAlchemy-2.0.30.dist-info already exists. Specify --upgrade to force replacement.\u001b[0m\u001b[33m\n",
            "\u001b[0m\u001b[33mWARNING: Target directory /content/notebooks/_yaml already exists. Specify --upgrade to force replacement.\u001b[0m\u001b[33m\n",
            "\u001b[0m\u001b[33mWARNING: Target directory /content/notebooks/optuna already exists. Specify --upgrade to force replacement.\u001b[0m\u001b[33m\n",
            "\u001b[0m\u001b[33mWARNING: Target directory /content/notebooks/tqdm already exists. Specify --upgrade to force replacement.\u001b[0m\u001b[33m\n",
            "\u001b[0m\u001b[33mWARNING: Target directory /content/notebooks/alembic-1.13.1.dist-info already exists. Specify --upgrade to force replacement.\u001b[0m\u001b[33m\n",
            "\u001b[0m\u001b[33mWARNING: Target directory /content/notebooks/typing_extensions.py already exists. Specify --upgrade to force replacement.\u001b[0m\u001b[33m\n",
            "\u001b[0m\u001b[33mWARNING: Target directory /content/notebooks/mako already exists. Specify --upgrade to force replacement.\u001b[0m\u001b[33m\n",
            "\u001b[0m\u001b[33mWARNING: Target directory /content/notebooks/numpy.libs already exists. Specify --upgrade to force replacement.\u001b[0m\u001b[33m\n",
            "\u001b[0m\u001b[33mWARNING: Target directory /content/notebooks/numpy already exists. Specify --upgrade to force replacement.\u001b[0m\u001b[33m\n",
            "\u001b[0m\u001b[33mWARNING: Target directory /content/notebooks/yaml already exists. Specify --upgrade to force replacement.\u001b[0m\u001b[33m\n",
            "\u001b[0m\u001b[33mWARNING: Target directory /content/notebooks/optuna-3.6.1.dist-info already exists. Specify --upgrade to force replacement.\u001b[0m\u001b[33m\n",
            "\u001b[0m\u001b[33mWARNING: Target directory /content/notebooks/greenlet already exists. Specify --upgrade to force replacement.\u001b[0m\u001b[33m\n",
            "\u001b[0m\u001b[33mWARNING: Target directory /content/notebooks/bin already exists. Specify --upgrade to force replacement.\u001b[0m\u001b[33m\n",
            "\u001b[0m\u001b[33mWARNING: Target directory /content/notebooks/include already exists. Specify --upgrade to force replacement.\u001b[0m\u001b[33m\n",
            "\u001b[0m"
          ]
        }
      ]
    },
    {
      "cell_type": "code",
      "source": [
        "import optuna"
      ],
      "metadata": {
        "id": "fXIb-VojYEru"
      },
      "execution_count": null,
      "outputs": []
    },
    {
      "cell_type": "code",
      "source": [
        "base_model_InceptionV3 = tf.keras.applications.InceptionV3(\n",
        "    input_shape=(224, 224, 3),\n",
        "    include_top=False,\n",
        "    weights=\"imagenet\"\n",
        ")\n",
        "base_model_InceptionV3.trainable = False\n",
        "\n",
        "def create_model(trial):\n",
        "    # 하이퍼파라미터 정의\n",
        "    n_layers = trial.suggest_int('n_layers', 1, 4)\n",
        "    dropout_rate = trial.suggest_uniform('dropout_rate', 0.0, 0.5)\n",
        "    learning_rate = trial.suggest_loguniform('learning_rate', 1e-5, 1e-1)\n",
        "\n",
        "    # 모델 생성\n",
        "    model = tf.keras.models.Sequential()\n",
        "    model.add(base_model_InceptionV3)\n",
        "    model.add(tf.keras.layers.MaxPooling2D())\n",
        "    model.add(tf.keras.layers.Flatten())\n",
        "\n",
        "    for i in range(n_layers):\n",
        "        num_hidden = trial.suggest_int('n_units_l{}'.format(i), 32, 128)\n",
        "        model.add(tf.keras.layers.Dense(num_hidden, activation='relu'))\n",
        "        model.add(tf.keras.layers.Dropout(dropout_rate))\n",
        "\n",
        "    model.add(tf.keras.layers.Dense(3, activation='softmax'))\n",
        "\n",
        "    # 모델 컴파일\n",
        "    model.compile(\n",
        "        optimizer=tf.keras.optimizers.Adam(learning_rate=learning_rate),\n",
        "        loss='sparse_categorical_crossentropy',\n",
        "        metrics=['accuracy']\n",
        "    )\n",
        "\n",
        "    return model\n",
        "\n",
        "def objective(trial):\n",
        "    # 모델 생성\n",
        "    model = create_model(trial)\n",
        "\n",
        "    # 모델 학습\n",
        "    model.fit(\n",
        "        train_generator,\n",
        "        validation_data=validation_generator,\n",
        "        epochs=10,\n",
        "        batch_size=32,\n",
        "        verbose=0\n",
        "    )\n",
        "\n",
        "    # 검증 손실 반환\n",
        "    score = model.evaluate(validation_generator)\n",
        "    return score[0]\n",
        "\n",
        "# Study 생성 및 최적화 수행\n",
        "study = optuna.create_study(direction='minimize')\n",
        "study.optimize(objective, n_trials=100)\n",
        "\n",
        "# 최적의 하이퍼파라미터 출력\n",
        "print(\"Best trial:\")\n",
        "trial = study.best_trial\n",
        "\n",
        "print(\"  Value: {}\".format(trial.value))\n",
        "print(\"  Params: \")\n",
        "for key, value in trial.params.items():\n",
        "    print(\"    {}: {}\".format(key, value))"
      ],
      "metadata": {
        "colab": {
          "base_uri": "https://localhost:8080/",
          "height": 1000
        },
        "id": "UQPvnBAbUfe9",
        "outputId": "b9fd25fa-1049-4c83-c0a6-237f21f29730"
      },
      "execution_count": null,
      "outputs": [
        {
          "output_type": "stream",
          "name": "stderr",
          "text": [
            "[I 2024-06-15 19:55:58,779] A new study created in memory with name: no-name-6f25affd-1c8c-42c6-a2ee-7cc2c3c7a115\n",
            "<ipython-input-15-63895f5f2d6b>:11: FutureWarning: suggest_uniform has been deprecated in v3.0.0. This feature will be removed in v6.0.0. See https://github.com/optuna/optuna/releases/tag/v3.0.0. Use suggest_float instead.\n",
            "  dropout_rate = trial.suggest_uniform('dropout_rate', 0.0, 0.5)\n",
            "<ipython-input-15-63895f5f2d6b>:12: FutureWarning: suggest_loguniform has been deprecated in v3.0.0. This feature will be removed in v6.0.0. See https://github.com/optuna/optuna/releases/tag/v3.0.0. Use suggest_float(..., log=True) instead.\n",
            "  learning_rate = trial.suggest_loguniform('learning_rate', 1e-5, 1e-1)\n",
            "[W 2024-06-15 19:56:16,521] Trial 0 failed with parameters: {'n_layers': 4, 'dropout_rate': 0.26097282010128825, 'learning_rate': 0.01721624005794731, 'n_units_l0': 103, 'n_units_l1': 95, 'n_units_l2': 84, 'n_units_l3': 53} because of the following error: InvalidArgumentError().\n",
            "Traceback (most recent call last):\n",
            "  File \"/content/notebooks/optuna/study/_optimize.py\", line 196, in _run_trial\n",
            "    value_or_values = func(trial)\n",
            "  File \"<ipython-input-15-63895f5f2d6b>\", line 41, in objective\n",
            "    model.fit(\n",
            "  File \"/usr/local/lib/python3.10/dist-packages/keras/src/utils/traceback_utils.py\", line 70, in error_handler\n",
            "    raise e.with_traceback(filtered_tb) from None\n",
            "  File \"/usr/local/lib/python3.10/dist-packages/tensorflow/python/eager/execute.py\", line 53, in quick_execute\n",
            "    tensors = pywrap_tfe.TFE_Py_Execute(ctx._handle, device_name, op_name,\n",
            "tensorflow.python.framework.errors_impl.InvalidArgumentError: Graph execution error:\n",
            "\n",
            "Detected at node sparse_categorical_crossentropy/SparseSoftmaxCrossEntropyWithLogits/SparseSoftmaxCrossEntropyWithLogits defined at (most recent call last):\n",
            "  File \"/usr/lib/python3.10/runpy.py\", line 196, in _run_module_as_main\n",
            "\n",
            "  File \"/usr/lib/python3.10/runpy.py\", line 86, in _run_code\n",
            "\n",
            "  File \"/usr/local/lib/python3.10/dist-packages/colab_kernel_launcher.py\", line 37, in <module>\n",
            "\n",
            "  File \"/usr/local/lib/python3.10/dist-packages/traitlets/config/application.py\", line 992, in launch_instance\n",
            "\n",
            "  File \"/usr/local/lib/python3.10/dist-packages/ipykernel/kernelapp.py\", line 619, in start\n",
            "\n",
            "  File \"/usr/local/lib/python3.10/dist-packages/tornado/platform/asyncio.py\", line 195, in start\n",
            "\n",
            "  File \"/usr/lib/python3.10/asyncio/base_events.py\", line 603, in run_forever\n",
            "\n",
            "  File \"/usr/lib/python3.10/asyncio/base_events.py\", line 1909, in _run_once\n",
            "\n",
            "  File \"/usr/lib/python3.10/asyncio/events.py\", line 80, in _run\n",
            "\n",
            "  File \"/usr/local/lib/python3.10/dist-packages/tornado/ioloop.py\", line 685, in <lambda>\n",
            "\n",
            "  File \"/usr/local/lib/python3.10/dist-packages/tornado/ioloop.py\", line 738, in _run_callback\n",
            "\n",
            "  File \"/usr/local/lib/python3.10/dist-packages/tornado/gen.py\", line 825, in inner\n",
            "\n",
            "  File \"/usr/local/lib/python3.10/dist-packages/tornado/gen.py\", line 786, in run\n",
            "\n",
            "  File \"/usr/local/lib/python3.10/dist-packages/ipykernel/kernelbase.py\", line 361, in process_one\n",
            "\n",
            "  File \"/usr/local/lib/python3.10/dist-packages/tornado/gen.py\", line 234, in wrapper\n",
            "\n",
            "  File \"/usr/local/lib/python3.10/dist-packages/ipykernel/kernelbase.py\", line 261, in dispatch_shell\n",
            "\n",
            "  File \"/usr/local/lib/python3.10/dist-packages/tornado/gen.py\", line 234, in wrapper\n",
            "\n",
            "  File \"/usr/local/lib/python3.10/dist-packages/ipykernel/kernelbase.py\", line 539, in execute_request\n",
            "\n",
            "  File \"/usr/local/lib/python3.10/dist-packages/tornado/gen.py\", line 234, in wrapper\n",
            "\n",
            "  File \"/usr/local/lib/python3.10/dist-packages/ipykernel/ipkernel.py\", line 302, in do_execute\n",
            "\n",
            "  File \"/usr/local/lib/python3.10/dist-packages/ipykernel/zmqshell.py\", line 539, in run_cell\n",
            "\n",
            "  File \"/usr/local/lib/python3.10/dist-packages/IPython/core/interactiveshell.py\", line 2975, in run_cell\n",
            "\n",
            "  File \"/usr/local/lib/python3.10/dist-packages/IPython/core/interactiveshell.py\", line 3030, in _run_cell\n",
            "\n",
            "  File \"/usr/local/lib/python3.10/dist-packages/IPython/core/async_helpers.py\", line 78, in _pseudo_sync_runner\n",
            "\n",
            "  File \"/usr/local/lib/python3.10/dist-packages/IPython/core/interactiveshell.py\", line 3257, in run_cell_async\n",
            "\n",
            "  File \"/usr/local/lib/python3.10/dist-packages/IPython/core/interactiveshell.py\", line 3473, in run_ast_nodes\n",
            "\n",
            "  File \"/usr/local/lib/python3.10/dist-packages/IPython/core/interactiveshell.py\", line 3553, in run_code\n",
            "\n",
            "  File \"<ipython-input-15-63895f5f2d6b>\", line 55, in <cell line: 55>\n",
            "\n",
            "  File \"/content/notebooks/optuna/study/study.py\", line 451, in optimize\n",
            "\n",
            "  File \"/content/notebooks/optuna/study/_optimize.py\", line 62, in _optimize\n",
            "\n",
            "  File \"/content/notebooks/optuna/study/_optimize.py\", line 159, in _optimize_sequential\n",
            "\n",
            "  File \"/content/notebooks/optuna/study/_optimize.py\", line 196, in _run_trial\n",
            "\n",
            "  File \"<ipython-input-15-63895f5f2d6b>\", line 41, in objective\n",
            "\n",
            "  File \"/usr/local/lib/python3.10/dist-packages/keras/src/utils/traceback_utils.py\", line 65, in error_handler\n",
            "\n",
            "  File \"/usr/local/lib/python3.10/dist-packages/keras/src/engine/training.py\", line 1807, in fit\n",
            "\n",
            "  File \"/usr/local/lib/python3.10/dist-packages/keras/src/engine/training.py\", line 1401, in train_function\n",
            "\n",
            "  File \"/usr/local/lib/python3.10/dist-packages/keras/src/engine/training.py\", line 1384, in step_function\n",
            "\n",
            "  File \"/usr/local/lib/python3.10/dist-packages/keras/src/engine/training.py\", line 1373, in run_step\n",
            "\n",
            "  File \"/usr/local/lib/python3.10/dist-packages/keras/src/engine/training.py\", line 1151, in train_step\n",
            "\n",
            "  File \"/usr/local/lib/python3.10/dist-packages/keras/src/engine/training.py\", line 1209, in compute_loss\n",
            "\n",
            "  File \"/usr/local/lib/python3.10/dist-packages/keras/src/engine/compile_utils.py\", line 277, in __call__\n",
            "\n",
            "  File \"/usr/local/lib/python3.10/dist-packages/keras/src/losses.py\", line 143, in __call__\n",
            "\n",
            "  File \"/usr/local/lib/python3.10/dist-packages/keras/src/losses.py\", line 270, in call\n",
            "\n",
            "  File \"/usr/local/lib/python3.10/dist-packages/keras/src/losses.py\", line 2454, in sparse_categorical_crossentropy\n",
            "\n",
            "  File \"/usr/local/lib/python3.10/dist-packages/keras/src/backend.py\", line 5775, in sparse_categorical_crossentropy\n",
            "\n",
            "logits and labels must have the same first dimension, got logits shape [32,3] and labels shape [96]\n",
            "\t [[{{node sparse_categorical_crossentropy/SparseSoftmaxCrossEntropyWithLogits/SparseSoftmaxCrossEntropyWithLogits}}]] [Op:__inference_train_function_57201]\n",
            "[W 2024-06-15 19:56:16,523] Trial 0 failed with value None.\n"
          ]
        },
        {
          "output_type": "error",
          "ename": "InvalidArgumentError",
          "evalue": "Graph execution error:\n\nDetected at node sparse_categorical_crossentropy/SparseSoftmaxCrossEntropyWithLogits/SparseSoftmaxCrossEntropyWithLogits defined at (most recent call last):\n  File \"/usr/lib/python3.10/runpy.py\", line 196, in _run_module_as_main\n\n  File \"/usr/lib/python3.10/runpy.py\", line 86, in _run_code\n\n  File \"/usr/local/lib/python3.10/dist-packages/colab_kernel_launcher.py\", line 37, in <module>\n\n  File \"/usr/local/lib/python3.10/dist-packages/traitlets/config/application.py\", line 992, in launch_instance\n\n  File \"/usr/local/lib/python3.10/dist-packages/ipykernel/kernelapp.py\", line 619, in start\n\n  File \"/usr/local/lib/python3.10/dist-packages/tornado/platform/asyncio.py\", line 195, in start\n\n  File \"/usr/lib/python3.10/asyncio/base_events.py\", line 603, in run_forever\n\n  File \"/usr/lib/python3.10/asyncio/base_events.py\", line 1909, in _run_once\n\n  File \"/usr/lib/python3.10/asyncio/events.py\", line 80, in _run\n\n  File \"/usr/local/lib/python3.10/dist-packages/tornado/ioloop.py\", line 685, in <lambda>\n\n  File \"/usr/local/lib/python3.10/dist-packages/tornado/ioloop.py\", line 738, in _run_callback\n\n  File \"/usr/local/lib/python3.10/dist-packages/tornado/gen.py\", line 825, in inner\n\n  File \"/usr/local/lib/python3.10/dist-packages/tornado/gen.py\", line 786, in run\n\n  File \"/usr/local/lib/python3.10/dist-packages/ipykernel/kernelbase.py\", line 361, in process_one\n\n  File \"/usr/local/lib/python3.10/dist-packages/tornado/gen.py\", line 234, in wrapper\n\n  File \"/usr/local/lib/python3.10/dist-packages/ipykernel/kernelbase.py\", line 261, in dispatch_shell\n\n  File \"/usr/local/lib/python3.10/dist-packages/tornado/gen.py\", line 234, in wrapper\n\n  File \"/usr/local/lib/python3.10/dist-packages/ipykernel/kernelbase.py\", line 539, in execute_request\n\n  File \"/usr/local/lib/python3.10/dist-packages/tornado/gen.py\", line 234, in wrapper\n\n  File \"/usr/local/lib/python3.10/dist-packages/ipykernel/ipkernel.py\", line 302, in do_execute\n\n  File \"/usr/local/lib/python3.10/dist-packages/ipykernel/zmqshell.py\", line 539, in run_cell\n\n  File \"/usr/local/lib/python3.10/dist-packages/IPython/core/interactiveshell.py\", line 2975, in run_cell\n\n  File \"/usr/local/lib/python3.10/dist-packages/IPython/core/interactiveshell.py\", line 3030, in _run_cell\n\n  File \"/usr/local/lib/python3.10/dist-packages/IPython/core/async_helpers.py\", line 78, in _pseudo_sync_runner\n\n  File \"/usr/local/lib/python3.10/dist-packages/IPython/core/interactiveshell.py\", line 3257, in run_cell_async\n\n  File \"/usr/local/lib/python3.10/dist-packages/IPython/core/interactiveshell.py\", line 3473, in run_ast_nodes\n\n  File \"/usr/local/lib/python3.10/dist-packages/IPython/core/interactiveshell.py\", line 3553, in run_code\n\n  File \"<ipython-input-15-63895f5f2d6b>\", line 55, in <cell line: 55>\n\n  File \"/content/notebooks/optuna/study/study.py\", line 451, in optimize\n\n  File \"/content/notebooks/optuna/study/_optimize.py\", line 62, in _optimize\n\n  File \"/content/notebooks/optuna/study/_optimize.py\", line 159, in _optimize_sequential\n\n  File \"/content/notebooks/optuna/study/_optimize.py\", line 196, in _run_trial\n\n  File \"<ipython-input-15-63895f5f2d6b>\", line 41, in objective\n\n  File \"/usr/local/lib/python3.10/dist-packages/keras/src/utils/traceback_utils.py\", line 65, in error_handler\n\n  File \"/usr/local/lib/python3.10/dist-packages/keras/src/engine/training.py\", line 1807, in fit\n\n  File \"/usr/local/lib/python3.10/dist-packages/keras/src/engine/training.py\", line 1401, in train_function\n\n  File \"/usr/local/lib/python3.10/dist-packages/keras/src/engine/training.py\", line 1384, in step_function\n\n  File \"/usr/local/lib/python3.10/dist-packages/keras/src/engine/training.py\", line 1373, in run_step\n\n  File \"/usr/local/lib/python3.10/dist-packages/keras/src/engine/training.py\", line 1151, in train_step\n\n  File \"/usr/local/lib/python3.10/dist-packages/keras/src/engine/training.py\", line 1209, in compute_loss\n\n  File \"/usr/local/lib/python3.10/dist-packages/keras/src/engine/compile_utils.py\", line 277, in __call__\n\n  File \"/usr/local/lib/python3.10/dist-packages/keras/src/losses.py\", line 143, in __call__\n\n  File \"/usr/local/lib/python3.10/dist-packages/keras/src/losses.py\", line 270, in call\n\n  File \"/usr/local/lib/python3.10/dist-packages/keras/src/losses.py\", line 2454, in sparse_categorical_crossentropy\n\n  File \"/usr/local/lib/python3.10/dist-packages/keras/src/backend.py\", line 5775, in sparse_categorical_crossentropy\n\nlogits and labels must have the same first dimension, got logits shape [32,3] and labels shape [96]\n\t [[{{node sparse_categorical_crossentropy/SparseSoftmaxCrossEntropyWithLogits/SparseSoftmaxCrossEntropyWithLogits}}]] [Op:__inference_train_function_57201]",
          "traceback": [
            "\u001b[0;31m---------------------------------------------------------------------------\u001b[0m",
            "\u001b[0;31mInvalidArgumentError\u001b[0m                      Traceback (most recent call last)",
            "\u001b[0;32m<ipython-input-15-63895f5f2d6b>\u001b[0m in \u001b[0;36m<cell line: 55>\u001b[0;34m()\u001b[0m\n\u001b[1;32m     53\u001b[0m \u001b[0;31m# Study 생성 및 최적화 수행\u001b[0m\u001b[0;34m\u001b[0m\u001b[0;34m\u001b[0m\u001b[0m\n\u001b[1;32m     54\u001b[0m \u001b[0mstudy\u001b[0m \u001b[0;34m=\u001b[0m \u001b[0moptuna\u001b[0m\u001b[0;34m.\u001b[0m\u001b[0mcreate_study\u001b[0m\u001b[0;34m(\u001b[0m\u001b[0mdirection\u001b[0m\u001b[0;34m=\u001b[0m\u001b[0;34m'minimize'\u001b[0m\u001b[0;34m)\u001b[0m\u001b[0;34m\u001b[0m\u001b[0;34m\u001b[0m\u001b[0m\n\u001b[0;32m---> 55\u001b[0;31m \u001b[0mstudy\u001b[0m\u001b[0;34m.\u001b[0m\u001b[0moptimize\u001b[0m\u001b[0;34m(\u001b[0m\u001b[0mobjective\u001b[0m\u001b[0;34m,\u001b[0m \u001b[0mn_trials\u001b[0m\u001b[0;34m=\u001b[0m\u001b[0;36m100\u001b[0m\u001b[0;34m)\u001b[0m\u001b[0;34m\u001b[0m\u001b[0;34m\u001b[0m\u001b[0m\n\u001b[0m\u001b[1;32m     56\u001b[0m \u001b[0;34m\u001b[0m\u001b[0m\n\u001b[1;32m     57\u001b[0m \u001b[0;31m# 최적의 하이퍼파라미터 출력\u001b[0m\u001b[0;34m\u001b[0m\u001b[0;34m\u001b[0m\u001b[0m\n",
            "\u001b[0;32m/content/notebooks/optuna/study/study.py\u001b[0m in \u001b[0;36moptimize\u001b[0;34m(self, func, n_trials, timeout, n_jobs, catch, callbacks, gc_after_trial, show_progress_bar)\u001b[0m\n\u001b[1;32m    449\u001b[0m                 \u001b[0mIf\u001b[0m \u001b[0mnested\u001b[0m \u001b[0minvocation\u001b[0m \u001b[0mof\u001b[0m \u001b[0mthis\u001b[0m \u001b[0mmethod\u001b[0m \u001b[0moccurs\u001b[0m\u001b[0;34m.\u001b[0m\u001b[0;34m\u001b[0m\u001b[0;34m\u001b[0m\u001b[0m\n\u001b[1;32m    450\u001b[0m         \"\"\"\n\u001b[0;32m--> 451\u001b[0;31m         _optimize(\n\u001b[0m\u001b[1;32m    452\u001b[0m             \u001b[0mstudy\u001b[0m\u001b[0;34m=\u001b[0m\u001b[0mself\u001b[0m\u001b[0;34m,\u001b[0m\u001b[0;34m\u001b[0m\u001b[0;34m\u001b[0m\u001b[0m\n\u001b[1;32m    453\u001b[0m             \u001b[0mfunc\u001b[0m\u001b[0;34m=\u001b[0m\u001b[0mfunc\u001b[0m\u001b[0;34m,\u001b[0m\u001b[0;34m\u001b[0m\u001b[0;34m\u001b[0m\u001b[0m\n",
            "\u001b[0;32m/content/notebooks/optuna/study/_optimize.py\u001b[0m in \u001b[0;36m_optimize\u001b[0;34m(study, func, n_trials, timeout, n_jobs, catch, callbacks, gc_after_trial, show_progress_bar)\u001b[0m\n\u001b[1;32m     60\u001b[0m     \u001b[0;32mtry\u001b[0m\u001b[0;34m:\u001b[0m\u001b[0;34m\u001b[0m\u001b[0;34m\u001b[0m\u001b[0m\n\u001b[1;32m     61\u001b[0m         \u001b[0;32mif\u001b[0m \u001b[0mn_jobs\u001b[0m \u001b[0;34m==\u001b[0m \u001b[0;36m1\u001b[0m\u001b[0;34m:\u001b[0m\u001b[0;34m\u001b[0m\u001b[0;34m\u001b[0m\u001b[0m\n\u001b[0;32m---> 62\u001b[0;31m             _optimize_sequential(\n\u001b[0m\u001b[1;32m     63\u001b[0m                 \u001b[0mstudy\u001b[0m\u001b[0;34m,\u001b[0m\u001b[0;34m\u001b[0m\u001b[0;34m\u001b[0m\u001b[0m\n\u001b[1;32m     64\u001b[0m                 \u001b[0mfunc\u001b[0m\u001b[0;34m,\u001b[0m\u001b[0;34m\u001b[0m\u001b[0;34m\u001b[0m\u001b[0m\n",
            "\u001b[0;32m/content/notebooks/optuna/study/_optimize.py\u001b[0m in \u001b[0;36m_optimize_sequential\u001b[0;34m(study, func, n_trials, timeout, catch, callbacks, gc_after_trial, reseed_sampler_rng, time_start, progress_bar)\u001b[0m\n\u001b[1;32m    157\u001b[0m \u001b[0;34m\u001b[0m\u001b[0m\n\u001b[1;32m    158\u001b[0m         \u001b[0;32mtry\u001b[0m\u001b[0;34m:\u001b[0m\u001b[0;34m\u001b[0m\u001b[0;34m\u001b[0m\u001b[0m\n\u001b[0;32m--> 159\u001b[0;31m             \u001b[0mfrozen_trial\u001b[0m \u001b[0;34m=\u001b[0m \u001b[0m_run_trial\u001b[0m\u001b[0;34m(\u001b[0m\u001b[0mstudy\u001b[0m\u001b[0;34m,\u001b[0m \u001b[0mfunc\u001b[0m\u001b[0;34m,\u001b[0m \u001b[0mcatch\u001b[0m\u001b[0;34m)\u001b[0m\u001b[0;34m\u001b[0m\u001b[0;34m\u001b[0m\u001b[0m\n\u001b[0m\u001b[1;32m    160\u001b[0m         \u001b[0;32mfinally\u001b[0m\u001b[0;34m:\u001b[0m\u001b[0;34m\u001b[0m\u001b[0;34m\u001b[0m\u001b[0m\n\u001b[1;32m    161\u001b[0m             \u001b[0;31m# The following line mitigates memory problems that can be occurred in some\u001b[0m\u001b[0;34m\u001b[0m\u001b[0;34m\u001b[0m\u001b[0m\n",
            "\u001b[0;32m/content/notebooks/optuna/study/_optimize.py\u001b[0m in \u001b[0;36m_run_trial\u001b[0;34m(study, func, catch)\u001b[0m\n\u001b[1;32m    245\u001b[0m         \u001b[0;32mand\u001b[0m \u001b[0;32mnot\u001b[0m \u001b[0misinstance\u001b[0m\u001b[0;34m(\u001b[0m\u001b[0mfunc_err\u001b[0m\u001b[0;34m,\u001b[0m \u001b[0mcatch\u001b[0m\u001b[0;34m)\u001b[0m\u001b[0;34m\u001b[0m\u001b[0;34m\u001b[0m\u001b[0m\n\u001b[1;32m    246\u001b[0m     ):\n\u001b[0;32m--> 247\u001b[0;31m         \u001b[0;32mraise\u001b[0m \u001b[0mfunc_err\u001b[0m\u001b[0;34m\u001b[0m\u001b[0;34m\u001b[0m\u001b[0m\n\u001b[0m\u001b[1;32m    248\u001b[0m     \u001b[0;32mreturn\u001b[0m \u001b[0mfrozen_trial\u001b[0m\u001b[0;34m\u001b[0m\u001b[0;34m\u001b[0m\u001b[0m\n\u001b[1;32m    249\u001b[0m \u001b[0;34m\u001b[0m\u001b[0m\n",
            "\u001b[0;32m/content/notebooks/optuna/study/_optimize.py\u001b[0m in \u001b[0;36m_run_trial\u001b[0;34m(study, func, catch)\u001b[0m\n\u001b[1;32m    194\u001b[0m     \u001b[0;32mwith\u001b[0m \u001b[0mget_heartbeat_thread\u001b[0m\u001b[0;34m(\u001b[0m\u001b[0mtrial\u001b[0m\u001b[0;34m.\u001b[0m\u001b[0m_trial_id\u001b[0m\u001b[0;34m,\u001b[0m \u001b[0mstudy\u001b[0m\u001b[0;34m.\u001b[0m\u001b[0m_storage\u001b[0m\u001b[0;34m)\u001b[0m\u001b[0;34m:\u001b[0m\u001b[0;34m\u001b[0m\u001b[0;34m\u001b[0m\u001b[0m\n\u001b[1;32m    195\u001b[0m         \u001b[0;32mtry\u001b[0m\u001b[0;34m:\u001b[0m\u001b[0;34m\u001b[0m\u001b[0;34m\u001b[0m\u001b[0m\n\u001b[0;32m--> 196\u001b[0;31m             \u001b[0mvalue_or_values\u001b[0m \u001b[0;34m=\u001b[0m \u001b[0mfunc\u001b[0m\u001b[0;34m(\u001b[0m\u001b[0mtrial\u001b[0m\u001b[0;34m)\u001b[0m\u001b[0;34m\u001b[0m\u001b[0;34m\u001b[0m\u001b[0m\n\u001b[0m\u001b[1;32m    197\u001b[0m         \u001b[0;32mexcept\u001b[0m \u001b[0mexceptions\u001b[0m\u001b[0;34m.\u001b[0m\u001b[0mTrialPruned\u001b[0m \u001b[0;32mas\u001b[0m \u001b[0me\u001b[0m\u001b[0;34m:\u001b[0m\u001b[0;34m\u001b[0m\u001b[0;34m\u001b[0m\u001b[0m\n\u001b[1;32m    198\u001b[0m             \u001b[0;31m# TODO(mamu): Handle multi-objective cases.\u001b[0m\u001b[0;34m\u001b[0m\u001b[0;34m\u001b[0m\u001b[0m\n",
            "\u001b[0;32m<ipython-input-15-63895f5f2d6b>\u001b[0m in \u001b[0;36mobjective\u001b[0;34m(trial)\u001b[0m\n\u001b[1;32m     39\u001b[0m \u001b[0;34m\u001b[0m\u001b[0m\n\u001b[1;32m     40\u001b[0m     \u001b[0;31m# 모델 학습\u001b[0m\u001b[0;34m\u001b[0m\u001b[0;34m\u001b[0m\u001b[0m\n\u001b[0;32m---> 41\u001b[0;31m     model.fit(\n\u001b[0m\u001b[1;32m     42\u001b[0m         \u001b[0mtrain_generator\u001b[0m\u001b[0;34m,\u001b[0m\u001b[0;34m\u001b[0m\u001b[0;34m\u001b[0m\u001b[0m\n\u001b[1;32m     43\u001b[0m         \u001b[0mvalidation_data\u001b[0m\u001b[0;34m=\u001b[0m\u001b[0mvalidation_generator\u001b[0m\u001b[0;34m,\u001b[0m\u001b[0;34m\u001b[0m\u001b[0;34m\u001b[0m\u001b[0m\n",
            "\u001b[0;32m/usr/local/lib/python3.10/dist-packages/keras/src/utils/traceback_utils.py\u001b[0m in \u001b[0;36merror_handler\u001b[0;34m(*args, **kwargs)\u001b[0m\n\u001b[1;32m     68\u001b[0m             \u001b[0;31m# To get the full stack trace, call:\u001b[0m\u001b[0;34m\u001b[0m\u001b[0;34m\u001b[0m\u001b[0m\n\u001b[1;32m     69\u001b[0m             \u001b[0;31m# `tf.debugging.disable_traceback_filtering()`\u001b[0m\u001b[0;34m\u001b[0m\u001b[0;34m\u001b[0m\u001b[0m\n\u001b[0;32m---> 70\u001b[0;31m             \u001b[0;32mraise\u001b[0m \u001b[0me\u001b[0m\u001b[0;34m.\u001b[0m\u001b[0mwith_traceback\u001b[0m\u001b[0;34m(\u001b[0m\u001b[0mfiltered_tb\u001b[0m\u001b[0;34m)\u001b[0m \u001b[0;32mfrom\u001b[0m \u001b[0;32mNone\u001b[0m\u001b[0;34m\u001b[0m\u001b[0;34m\u001b[0m\u001b[0m\n\u001b[0m\u001b[1;32m     71\u001b[0m         \u001b[0;32mfinally\u001b[0m\u001b[0;34m:\u001b[0m\u001b[0;34m\u001b[0m\u001b[0;34m\u001b[0m\u001b[0m\n\u001b[1;32m     72\u001b[0m             \u001b[0;32mdel\u001b[0m \u001b[0mfiltered_tb\u001b[0m\u001b[0;34m\u001b[0m\u001b[0;34m\u001b[0m\u001b[0m\n",
            "\u001b[0;32m/usr/local/lib/python3.10/dist-packages/tensorflow/python/eager/execute.py\u001b[0m in \u001b[0;36mquick_execute\u001b[0;34m(op_name, num_outputs, inputs, attrs, ctx, name)\u001b[0m\n\u001b[1;32m     51\u001b[0m   \u001b[0;32mtry\u001b[0m\u001b[0;34m:\u001b[0m\u001b[0;34m\u001b[0m\u001b[0;34m\u001b[0m\u001b[0m\n\u001b[1;32m     52\u001b[0m     \u001b[0mctx\u001b[0m\u001b[0;34m.\u001b[0m\u001b[0mensure_initialized\u001b[0m\u001b[0;34m(\u001b[0m\u001b[0;34m)\u001b[0m\u001b[0;34m\u001b[0m\u001b[0;34m\u001b[0m\u001b[0m\n\u001b[0;32m---> 53\u001b[0;31m     tensors = pywrap_tfe.TFE_Py_Execute(ctx._handle, device_name, op_name,\n\u001b[0m\u001b[1;32m     54\u001b[0m                                         inputs, attrs, num_outputs)\n\u001b[1;32m     55\u001b[0m   \u001b[0;32mexcept\u001b[0m \u001b[0mcore\u001b[0m\u001b[0;34m.\u001b[0m\u001b[0m_NotOkStatusException\u001b[0m \u001b[0;32mas\u001b[0m \u001b[0me\u001b[0m\u001b[0;34m:\u001b[0m\u001b[0;34m\u001b[0m\u001b[0;34m\u001b[0m\u001b[0m\n",
            "\u001b[0;31mInvalidArgumentError\u001b[0m: Graph execution error:\n\nDetected at node sparse_categorical_crossentropy/SparseSoftmaxCrossEntropyWithLogits/SparseSoftmaxCrossEntropyWithLogits defined at (most recent call last):\n  File \"/usr/lib/python3.10/runpy.py\", line 196, in _run_module_as_main\n\n  File \"/usr/lib/python3.10/runpy.py\", line 86, in _run_code\n\n  File \"/usr/local/lib/python3.10/dist-packages/colab_kernel_launcher.py\", line 37, in <module>\n\n  File \"/usr/local/lib/python3.10/dist-packages/traitlets/config/application.py\", line 992, in launch_instance\n\n  File \"/usr/local/lib/python3.10/dist-packages/ipykernel/kernelapp.py\", line 619, in start\n\n  File \"/usr/local/lib/python3.10/dist-packages/tornado/platform/asyncio.py\", line 195, in start\n\n  File \"/usr/lib/python3.10/asyncio/base_events.py\", line 603, in run_forever\n\n  File \"/usr/lib/python3.10/asyncio/base_events.py\", line 1909, in _run_once\n\n  File \"/usr/lib/python3.10/asyncio/events.py\", line 80, in _run\n\n  File \"/usr/local/lib/python3.10/dist-packages/tornado/ioloop.py\", line 685, in <lambda>\n\n  File \"/usr/local/lib/python3.10/dist-packages/tornado/ioloop.py\", line 738, in _run_callback\n\n  File \"/usr/local/lib/python3.10/dist-packages/tornado/gen.py\", line 825, in inner\n\n  File \"/usr/local/lib/python3.10/dist-packages/tornado/gen.py\", line 786, in run\n\n  File \"/usr/local/lib/python3.10/dist-packages/ipykernel/kernelbase.py\", line 361, in process_one\n\n  File \"/usr/local/lib/python3.10/dist-packages/tornado/gen.py\", line 234, in wrapper\n\n  File \"/usr/local/lib/python3.10/dist-packages/ipykernel/kernelbase.py\", line 261, in dispatch_shell\n\n  File \"/usr/local/lib/python3.10/dist-packages/tornado/gen.py\", line 234, in wrapper\n\n  File \"/usr/local/lib/python3.10/dist-packages/ipykernel/kernelbase.py\", line 539, in execute_request\n\n  File \"/usr/local/lib/python3.10/dist-packages/tornado/gen.py\", line 234, in wrapper\n\n  File \"/usr/local/lib/python3.10/dist-packages/ipykernel/ipkernel.py\", line 302, in do_execute\n\n  File \"/usr/local/lib/python3.10/dist-packages/ipykernel/zmqshell.py\", line 539, in run_cell\n\n  File \"/usr/local/lib/python3.10/dist-packages/IPython/core/interactiveshell.py\", line 2975, in run_cell\n\n  File \"/usr/local/lib/python3.10/dist-packages/IPython/core/interactiveshell.py\", line 3030, in _run_cell\n\n  File \"/usr/local/lib/python3.10/dist-packages/IPython/core/async_helpers.py\", line 78, in _pseudo_sync_runner\n\n  File \"/usr/local/lib/python3.10/dist-packages/IPython/core/interactiveshell.py\", line 3257, in run_cell_async\n\n  File \"/usr/local/lib/python3.10/dist-packages/IPython/core/interactiveshell.py\", line 3473, in run_ast_nodes\n\n  File \"/usr/local/lib/python3.10/dist-packages/IPython/core/interactiveshell.py\", line 3553, in run_code\n\n  File \"<ipython-input-15-63895f5f2d6b>\", line 55, in <cell line: 55>\n\n  File \"/content/notebooks/optuna/study/study.py\", line 451, in optimize\n\n  File \"/content/notebooks/optuna/study/_optimize.py\", line 62, in _optimize\n\n  File \"/content/notebooks/optuna/study/_optimize.py\", line 159, in _optimize_sequential\n\n  File \"/content/notebooks/optuna/study/_optimize.py\", line 196, in _run_trial\n\n  File \"<ipython-input-15-63895f5f2d6b>\", line 41, in objective\n\n  File \"/usr/local/lib/python3.10/dist-packages/keras/src/utils/traceback_utils.py\", line 65, in error_handler\n\n  File \"/usr/local/lib/python3.10/dist-packages/keras/src/engine/training.py\", line 1807, in fit\n\n  File \"/usr/local/lib/python3.10/dist-packages/keras/src/engine/training.py\", line 1401, in train_function\n\n  File \"/usr/local/lib/python3.10/dist-packages/keras/src/engine/training.py\", line 1384, in step_function\n\n  File \"/usr/local/lib/python3.10/dist-packages/keras/src/engine/training.py\", line 1373, in run_step\n\n  File \"/usr/local/lib/python3.10/dist-packages/keras/src/engine/training.py\", line 1151, in train_step\n\n  File \"/usr/local/lib/python3.10/dist-packages/keras/src/engine/training.py\", line 1209, in compute_loss\n\n  File \"/usr/local/lib/python3.10/dist-packages/keras/src/engine/compile_utils.py\", line 277, in __call__\n\n  File \"/usr/local/lib/python3.10/dist-packages/keras/src/losses.py\", line 143, in __call__\n\n  File \"/usr/local/lib/python3.10/dist-packages/keras/src/losses.py\", line 270, in call\n\n  File \"/usr/local/lib/python3.10/dist-packages/keras/src/losses.py\", line 2454, in sparse_categorical_crossentropy\n\n  File \"/usr/local/lib/python3.10/dist-packages/keras/src/backend.py\", line 5775, in sparse_categorical_crossentropy\n\nlogits and labels must have the same first dimension, got logits shape [32,3] and labels shape [96]\n\t [[{{node sparse_categorical_crossentropy/SparseSoftmaxCrossEntropyWithLogits/SparseSoftmaxCrossEntropyWithLogits}}]] [Op:__inference_train_function_57201]"
          ]
        }
      ]
    }
  ],
  "metadata": {
    "colab": {
      "provenance": [],
      "gpuType": "T4",
      "collapsed_sections": [
        "ogRGmSJ4kU4C",
        "xnDcvrfCmpLm",
        "xfKgljKBnlmX",
        "qdJHfp43nvqX",
        "5rI4655Xn-0X",
        "MCuy54WE99rI"
      ],
      "include_colab_link": true
    },
    "kernelspec": {
      "display_name": "Python 3",
      "name": "python3"
    },
    "language_info": {
      "name": "python"
    },
    "accelerator": "GPU"
  },
  "nbformat": 4,
  "nbformat_minor": 0
}