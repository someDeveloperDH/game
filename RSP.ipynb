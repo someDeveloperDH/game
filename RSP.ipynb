{
  "nbformat": 4,
  "nbformat_minor": 0,
  "metadata": {
    "colab": {
      "provenance": [],
      "authorship_tag": "ABX9TyOSE4S929ykNuDnnZBYv/R2",
      "include_colab_link": true
    },
    "kernelspec": {
      "name": "python3",
      "display_name": "Python 3"
    },
    "language_info": {
      "name": "python"
    }
  },
  "cells": [
    {
      "cell_type": "markdown",
      "metadata": {
        "id": "view-in-github",
        "colab_type": "text"
      },
      "source": [
        "<a href=\"https://colab.research.google.com/github/someDeveloperDH/game/blob/DH/RSP.ipynb\" target=\"_parent\"><img src=\"https://colab.research.google.com/assets/colab-badge.svg\" alt=\"Open In Colab\"/></a>"
      ]
    },
    {
      "cell_type": "code",
      "execution_count": null,
      "metadata": {
        "colab": {
          "base_uri": "https://localhost:8080/"
        },
        "id": "C9FXjl2lRfSH",
        "outputId": "b4595f68-17a7-429f-d7c8-143c720a8d5b"
      },
      "outputs": [
        {
          "output_type": "stream",
          "name": "stdout",
          "text": [
            "Mounted at /content/drive\n"
          ]
        }
      ],
      "source": [
        "from google.colab import drive\n",
        "drive.mount(\"/content/drive\")"
      ]
    },
    {
      "cell_type": "code",
      "source": [
        "import tensorflow as tf\n",
        "import matplotlib.pyplot as plt\n",
        "import matplotlib.image as mpimg\n",
        "import numpy as np\n",
        "import os\n",
        "from random import shuffle\n",
        "from tensorflow.keras.preprocessing import image\n",
        "from tensorflow.keras.preprocessing.image import ImageDataGenerator\n",
        "from tensorflow.keras.optimizers import Adam"
      ],
      "metadata": {
        "id": "Dved62JFWnww"
      },
      "execution_count": null,
      "outputs": []
    },
    {
      "cell_type": "code",
      "source": [
        "#데이터 경로\n",
        "base_dir = \"/content/drive/MyDrive/proj_rsp/RPS\" #필요시 경로 수정 필수\n",
        "\n",
        "train_dir = os.path.join(base_dir,\"train\")\n",
        "test_dir = os.path.join(base_dir,\"test\")\n",
        "\n",
        "\n",
        "\n",
        "train_paper_dir = os.path.join(train_dir,\"paper\") #650개\n",
        "train_rock_dir = os.path.join(train_dir,\"rock\")\n",
        "train_scissors_dir = os.path.join(train_dir,\"scissors\")\n",
        "\n",
        "\n",
        "\n",
        "test_paper_dir = os.path.join(test_dir,\"paper\") #90개\n",
        "test_rock_dir = os.path.join(test_dir,\"rock\")\n",
        "test_scissors_dir = os.path.join(test_dir,\"scissors\")"
      ],
      "metadata": {
        "id": "ruVzEbVOWqN8"
      },
      "execution_count": null,
      "outputs": []
    },
    {
      "cell_type": "code",
      "source": [
        "#데이터 전처리 : 이미지 증강 (Augmentation), validation 데이터 사용\n",
        "train_datagen = ImageDataGenerator(\n",
        "    rescale=1./255,            # 이미지의 픽셀 값을 0-1 범위로 스케일링\n",
        "    rotation_range=40,         # 이미지를 무작위로 40도 회전\n",
        "    width_shift_range=0.2,     # 이미지를 수평으로 무작위 20% 이동\n",
        "    height_shift_range=0.2,    # 이미지를 수직으로 무작위 20% 이동\n",
        "    shear_range=0.2,           # 무작위 전단 변환\n",
        "    zoom_range=0.2,            # 무작위 확대/축소\n",
        "    horizontal_flip=True,      # 이미지를 수평으로 뒤집기\n",
        "    fill_mode='nearest',       # 빈공간의 픽셀 값을 가까운 것과 유사하게 채우기\n",
        "    validation_split=0.2\n",
        ")\n",
        "\n",
        "test_datagen = ImageDataGenerator(rescale = 1./255)\n",
        "\n"
      ],
      "metadata": {
        "id": "Pr3JBJmeXQQX"
      },
      "execution_count": null,
      "outputs": []
    },
    {
      "cell_type": "code",
      "source": [
        "train_generator = train_datagen.flow_from_directory(train_dir,\n",
        "                                                    subset='training',  #subset 설정안하면 분리 안됨\n",
        "                                                    batch_size=156, #  나머지 없음\n",
        "                                                    color_mode='rgb',\n",
        "                                                    class_mode='categorical',\n",
        "                                                    target_size=(224,224),\n",
        "                                                    shuffle=True,\n",
        "                                                    seed=None,\n",
        "                                                    interpolation='nearest'\n",
        "                                                    )\n",
        "validation_generator = train_datagen.flow_from_directory(train_dir,\n",
        "                                                         subset='validation',\n",
        "                                                          batch_size=39,      #  배치 크기가 연산 속도와 관련.\n",
        "                                                          color_mode='rgb',\n",
        "                                                          class_mode='categorical',\n",
        "                                                          target_size=(224,224),\n",
        "                                                          shuffle=True,\n",
        "                                                          seed=None,\n",
        "                                                          interpolation='nearest'\n",
        "                                                              )\n",
        "\n",
        "test_generator = test_datagen.flow_from_directory(test_dir,\n",
        "                                                  batch_size=4,\n",
        "                                                  color_mode='rgb',\n",
        "                                                  class_mode='categorical',\n",
        "                                                  target_size=(224,224))\n",
        "\n"
      ],
      "metadata": {
        "colab": {
          "base_uri": "https://localhost:8080/"
        },
        "id": "P-fb7vBmabnD",
        "outputId": "0728463c-584c-4fce-9242-c0bbff719a07"
      },
      "execution_count": null,
      "outputs": [
        {
          "output_type": "stream",
          "name": "stdout",
          "text": [
            "Found 1560 images belonging to 3 classes.\n",
            "Found 390 images belonging to 3 classes.\n",
            "Found 270 images belonging to 3 classes.\n"
          ]
        }
      ]
    },
    {
      "cell_type": "code",
      "source": [
        "#클래스 설정 : 폴더기준으로 자동으로 클래스 나눈거 확인\n",
        "train_generator.class_indices\n"
      ],
      "metadata": {
        "colab": {
          "base_uri": "https://localhost:8080/"
        },
        "id": "iks_BA-Genn3",
        "outputId": "0f0255e5-3e47-4fc5-f4f5-3aa1c6010967"
      },
      "execution_count": null,
      "outputs": [
        {
          "output_type": "execute_result",
          "data": {
            "text/plain": [
              "{'paper': 0, 'rock': 1, 'scissors': 2}"
            ]
          },
          "metadata": {},
          "execution_count": 14
        }
      ]
    },
    {
      "cell_type": "code",
      "source": [
        "#모델생성 : 이미지특징추출 마지막에서 필터 수가 너무 많으면 과적합이 일어날 수 있음. dense가 깊어지면 과적합이 일어날 수 있음.\n",
        "model = tf.keras.models.Sequential([\n",
        "    tf.keras.layers.Conv2D(32, (3,3), activation='relu', input_shape=(224, 224, 3)),\n",
        "    tf.keras.layers.MaxPooling2D(2,2),\n",
        "    tf.keras.layers.Conv2D(64, (3,3), activation='relu'),\n",
        "    tf.keras.layers.MaxPooling2D(2,2),\n",
        "    tf.keras.layers.Conv2D(128, (3,3), activation='relu'),\n",
        "    tf.keras.layers.Flatten(),\n",
        "    tf.keras.layers.Dense(3, activation='softmax')\n",
        "])\n",
        "model.summary()"
      ],
      "metadata": {
        "colab": {
          "base_uri": "https://localhost:8080/"
        },
        "id": "nscNmhtke9L2",
        "outputId": "81d40df1-6347-45ce-8063-403cb6bb3b06"
      },
      "execution_count": null,
      "outputs": [
        {
          "output_type": "stream",
          "name": "stdout",
          "text": [
            "Model: \"sequential_1\"\n",
            "_________________________________________________________________\n",
            " Layer (type)                Output Shape              Param #   \n",
            "=================================================================\n",
            " conv2d_3 (Conv2D)           (None, 222, 222, 32)      896       \n",
            "                                                                 \n",
            " max_pooling2d_2 (MaxPoolin  (None, 111, 111, 32)      0         \n",
            " g2D)                                                            \n",
            "                                                                 \n",
            " conv2d_4 (Conv2D)           (None, 109, 109, 64)      18496     \n",
            "                                                                 \n",
            " max_pooling2d_3 (MaxPoolin  (None, 54, 54, 64)        0         \n",
            " g2D)                                                            \n",
            "                                                                 \n",
            " conv2d_5 (Conv2D)           (None, 52, 52, 128)       73856     \n",
            "                                                                 \n",
            " flatten_1 (Flatten)         (None, 346112)            0         \n",
            "                                                                 \n",
            " dense_1 (Dense)             (None, 3)                 1038339   \n",
            "                                                                 \n",
            "=================================================================\n",
            "Total params: 1131587 (4.32 MB)\n",
            "Trainable params: 1131587 (4.32 MB)\n",
            "Non-trainable params: 0 (0.00 Byte)\n",
            "_________________________________________________________________\n"
          ]
        }
      ]
    },
    {
      "cell_type": "code",
      "source": [
        "#모델 컴파일 : 학습 전 단계\n",
        "model.compile(optimizer=Adam(learning_rate=0.001),\n",
        "              loss='categorical_crossentropy',\n",
        "              metrics= ['accuracy'])"
      ],
      "metadata": {
        "id": "hfHXYplLiJi2"
      },
      "execution_count": null,
      "outputs": []
    },
    {
      "cell_type": "code",
      "source": [
        "history = model.fit_generator(train_generator,\n",
        "                              validation_data=validation_generator,\n",
        "                              steps_per_epoch= 10,  # 1560 / 156 = 10\n",
        "                              epochs=100,\n",
        "                               validation_steps= 10, # 390 / 39 = 10\n",
        "                              verbose=2)"
      ],
      "metadata": {
        "colab": {
          "base_uri": "https://localhost:8080/"
        },
        "id": "T5jRamd-kVck",
        "outputId": "6ed5695c-3e30-4c85-b786-b0fdae1cfe96"
      },
      "execution_count": null,
      "outputs": [
        {
          "output_type": "stream",
          "name": "stderr",
          "text": [
            "<ipython-input-17-07045a86a92d>:1: UserWarning: `Model.fit_generator` is deprecated and will be removed in a future version. Please use `Model.fit`, which supports generators.\n",
            "  history = model.fit_generator(train_generator,\n"
          ]
        },
        {
          "output_type": "stream",
          "name": "stdout",
          "text": [
            "Epoch 1/100\n",
            "10/10 - 293s - loss: 3.0713 - accuracy: 0.3667 - val_loss: 1.1258 - val_accuracy: 0.3333 - 293s/epoch - 29s/step\n",
            "Epoch 2/100\n",
            "10/10 - 207s - loss: 1.1175 - accuracy: 0.3378 - val_loss: 1.0894 - val_accuracy: 0.3564 - 207s/epoch - 21s/step\n",
            "Epoch 3/100\n",
            "10/10 - 225s - loss: 1.0871 - accuracy: 0.3692 - val_loss: 1.1510 - val_accuracy: 0.3333 - 225s/epoch - 23s/step\n",
            "Epoch 4/100\n",
            "10/10 - 218s - loss: 1.0999 - accuracy: 0.3449 - val_loss: 1.0866 - val_accuracy: 0.3718 - 218s/epoch - 22s/step\n",
            "Epoch 5/100\n",
            "10/10 - 209s - loss: 1.0816 - accuracy: 0.3679 - val_loss: 1.0810 - val_accuracy: 0.3718 - 209s/epoch - 21s/step\n",
            "Epoch 6/100\n",
            "10/10 - 218s - loss: 1.0760 - accuracy: 0.3513 - val_loss: 1.0795 - val_accuracy: 0.3128 - 218s/epoch - 22s/step\n",
            "Epoch 7/100\n",
            "10/10 - 213s - loss: 1.0710 - accuracy: 0.3423 - val_loss: 1.0763 - val_accuracy: 0.3821 - 213s/epoch - 21s/step\n",
            "Epoch 8/100\n",
            "10/10 - 212s - loss: 1.0674 - accuracy: 0.3647 - val_loss: 1.0700 - val_accuracy: 0.3462 - 212s/epoch - 21s/step\n",
            "Epoch 9/100\n",
            "10/10 - 240s - loss: 1.0877 - accuracy: 0.3891 - val_loss: 1.0869 - val_accuracy: 0.3385 - 240s/epoch - 24s/step\n",
            "Epoch 10/100\n",
            "10/10 - 232s - loss: 1.0695 - accuracy: 0.3660 - val_loss: 1.0814 - val_accuracy: 0.3667 - 232s/epoch - 23s/step\n",
            "Epoch 11/100\n",
            "10/10 - 228s - loss: 1.0668 - accuracy: 0.3737 - val_loss: 1.0727 - val_accuracy: 0.3692 - 228s/epoch - 23s/step\n",
            "Epoch 12/100\n",
            "10/10 - 212s - loss: 1.0595 - accuracy: 0.3891 - val_loss: 1.0908 - val_accuracy: 0.3590 - 212s/epoch - 21s/step\n",
            "Epoch 13/100\n",
            "10/10 - 213s - loss: 1.0610 - accuracy: 0.3853 - val_loss: 1.0818 - val_accuracy: 0.3897 - 213s/epoch - 21s/step\n",
            "Epoch 14/100\n",
            "10/10 - 221s - loss: 1.0656 - accuracy: 0.3821 - val_loss: 1.0683 - val_accuracy: 0.3641 - 221s/epoch - 22s/step\n",
            "Epoch 15/100\n",
            "10/10 - 213s - loss: 1.0639 - accuracy: 0.3878 - val_loss: 1.0741 - val_accuracy: 0.3744 - 213s/epoch - 21s/step\n",
            "Epoch 16/100\n",
            "10/10 - 214s - loss: 1.0558 - accuracy: 0.3904 - val_loss: 1.0803 - val_accuracy: 0.3564 - 214s/epoch - 21s/step\n",
            "Epoch 17/100\n",
            "10/10 - 224s - loss: 1.0558 - accuracy: 0.3885 - val_loss: 1.0736 - val_accuracy: 0.3590 - 224s/epoch - 22s/step\n",
            "Epoch 18/100\n",
            "10/10 - 214s - loss: 1.0451 - accuracy: 0.3962 - val_loss: 1.0741 - val_accuracy: 0.3641 - 214s/epoch - 21s/step\n",
            "Epoch 19/100\n",
            "10/10 - 227s - loss: 1.0441 - accuracy: 0.4154 - val_loss: 1.0616 - val_accuracy: 0.3821 - 227s/epoch - 23s/step\n",
            "Epoch 20/100\n",
            "10/10 - 216s - loss: 1.0442 - accuracy: 0.4532 - val_loss: 1.0725 - val_accuracy: 0.3538 - 216s/epoch - 22s/step\n",
            "Epoch 21/100\n",
            "10/10 - 232s - loss: 1.0311 - accuracy: 0.4282 - val_loss: 1.1054 - val_accuracy: 0.3359 - 232s/epoch - 23s/step\n",
            "Epoch 22/100\n",
            "10/10 - 224s - loss: 1.0535 - accuracy: 0.4026 - val_loss: 1.0615 - val_accuracy: 0.3923 - 224s/epoch - 22s/step\n",
            "Epoch 23/100\n",
            "10/10 - 213s - loss: 1.0398 - accuracy: 0.4244 - val_loss: 1.0520 - val_accuracy: 0.3872 - 213s/epoch - 21s/step\n",
            "Epoch 24/100\n"
          ]
        }
      ]
    }
  ]
}